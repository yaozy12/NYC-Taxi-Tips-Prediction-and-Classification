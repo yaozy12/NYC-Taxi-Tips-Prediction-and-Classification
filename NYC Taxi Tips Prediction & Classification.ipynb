{
  "nbformat": 4,
  "nbformat_minor": 0,
  "metadata": {
    "colab": {
      "name": "project3_template.ipynb",
      "provenance": [],
      "collapsed_sections": []
    },
    "kernelspec": {
      "name": "python3",
      "display_name": "Python 3"
    }
  },
  "cells": [
    {
      "cell_type": "markdown",
      "metadata": {
        "id": "U5JUMgc_gbHp"
      },
      "source": [
        "# CS145: Project 3 | New York Taxi Tips Prediction & Classification "
      ]
    },
    {
      "cell_type": "markdown",
      "metadata": {
        "id": "EHDiv4GrhofN"
      },
      "source": [
        "## Collaborators:\n",
        "Please list the names and SUNet IDs of your collaborators below:\n",
        "* *Zhaoyu Yao, yaozy12*\n"
      ]
    },
    {
      "cell_type": "code",
      "metadata": {
        "id": "NRSuM3dTTZ1F"
      },
      "source": [
        ""
      ],
      "execution_count": null,
      "outputs": []
    },
    {
      "cell_type": "markdown",
      "metadata": {
        "id": "gMNQWFvSgepX"
      },
      "source": [
        "# Project Overview"
      ]
    },
    {
      "cell_type": "markdown",
      "metadata": {
        "id": "lX1Jkglwg1SI"
      },
      "source": [
        "---\n",
        "\n",
        "Tips are very common in our daily life. In the United States, most offline consumer activities require tipping, which also includes taking taxis. When a customer takes a taxi, what are the factors that cause the passenger to be willing to tip the driver, and what factors determine the amount of tip paid by the passenger?\n",
        "\n",
        "\n",
        "At this time, we use the public data \"new_york_taxi_tip\" on the GCP platform to take a deep dive on factors that affect passengers’ willingness to pay tips, including trip distance, trip time and fare amount, passenger amount and the way of payment, and we apply linear regression and boosting tree to make prediction on how much the tip will be. Meanwhile, logistic regression and boosting tree are used to classify and predict whether passengers choose to pay tips, and the above models are also used to predict.\n",
        "\n",
        "In a nutshell, this project will include:\n",
        "\n",
        "1.What’s the relationship between the customer’s willingness of paying tips between factors such as trip distance, trip time and fare amount, passenger amount and the way of payment? \n",
        "\n",
        "2.How can we use SQL and machine learning algorithms to realize classification and prediction?\n",
        "\n",
        "3.What’s the performance of those machine learning algorithms?\n",
        "\n",
        "\n",
        "---\n"
      ]
    },
    {
      "cell_type": "markdown",
      "metadata": {
        "id": "r_GvgTCcgv6N"
      },
      "source": [
        "# Analysis of Dataset"
      ]
    },
    {
      "cell_type": "markdown",
      "metadata": {
        "id": "c6wGQ8ZPgyuJ"
      },
      "source": [
        "---\n",
        "\n",
        "This time, we use “tlc_green_trips_2018” as our dataset to do analysis. This dataset is 1.44 GB in size and has 8,807,303 rows. 21 variables are included in the dataset, most of them are used to describe a trip’s time and location in a digital way, such as pickup time, drop off time, pickup location id. The character of our project, the amount of tip is also included in the dataset with some other variables, like the amount of fare, payment type to measure payment behavior.\n",
        "\n",
        "----"
      ]
    },
    {
      "cell_type": "markdown",
      "metadata": {
        "id": "iIm1OdYzpd8D"
      },
      "source": [
        "Firstly, we need to setup the location and bigquery autheration."
      ]
    },
    {
      "cell_type": "code",
      "metadata": {
        "id": "_dzFWj8f6gCA"
      },
      "source": [
        "# Run this cell to authenticate yourself to BigQuery\n",
        "from google.colab import auth\n",
        "auth.authenticate_user()\n",
        "project_id = \"cs145-fa21-328321\""
      ],
      "execution_count": null,
      "outputs": []
    },
    {
      "cell_type": "code",
      "metadata": {
        "id": "9nd9eFJk6p2P"
      },
      "source": [
        "# Initialize BiqQuery client\n",
        "from google.cloud import bigquery\n",
        "client = bigquery.Client(project=project_id)"
      ],
      "execution_count": null,
      "outputs": []
    },
    {
      "cell_type": "code",
      "metadata": {
        "colab": {
          "base_uri": "https://localhost:8080/"
        },
        "id": "ForXY9f36yj5",
        "outputId": "9211066c-0115-4816-de0d-5f2a1c444922"
      },
      "source": [
        "# Run this cell to create a dataset to store your model, or create in the UI \n",
        "model_dataset_name = 'new_york_green_taxi_tip'\n",
        "dataset = bigquery.Dataset(client.dataset(model_dataset_name)) \n",
        "dataset.location = 'US'\n",
        "client.create_dataset(dataset)"
      ],
      "execution_count": null,
      "outputs": [
        {
          "output_type": "execute_result",
          "data": {
            "text/plain": [
              "Dataset(DatasetReference('cs145-fa21-328321', 'new_york_green_taxi_tip'))"
            ]
          },
          "metadata": {},
          "execution_count": 5
        }
      ]
    },
    {
      "cell_type": "code",
      "metadata": {
        "id": "fJlXZtiD6tDZ"
      },
      "source": [
        "# Add imports for any visualization libraries you may need \n",
        "import numpy as np\n",
        "import matplotlib.pyplot as plt\n",
        "%matplotlib inline"
      ],
      "execution_count": null,
      "outputs": []
    },
    {
      "cell_type": "code",
      "metadata": {
        "colab": {
          "base_uri": "https://localhost:8080/",
          "height": 80
        },
        "id": "ymvQyLPWPLdn",
        "outputId": "0fc73cf6-6f45-4de2-f296-783767e6e0e9"
      },
      "source": [
        "%%bigquery --project $project_id\n",
        "\n",
        "# Show the total rows in our dataset\n",
        "select count(*) as tip_record_number from \n",
        "`bigquery-public-data.new_york_taxi_trips.tlc_green_trips_2018`"
      ],
      "execution_count": null,
      "outputs": [
        {
          "output_type": "execute_result",
          "data": {
            "text/html": [
              "<div>\n",
              "<style scoped>\n",
              "    .dataframe tbody tr th:only-of-type {\n",
              "        vertical-align: middle;\n",
              "    }\n",
              "\n",
              "    .dataframe tbody tr th {\n",
              "        vertical-align: top;\n",
              "    }\n",
              "\n",
              "    .dataframe thead th {\n",
              "        text-align: right;\n",
              "    }\n",
              "</style>\n",
              "<table border=\"1\" class=\"dataframe\">\n",
              "  <thead>\n",
              "    <tr style=\"text-align: right;\">\n",
              "      <th></th>\n",
              "      <th>tip_record_number</th>\n",
              "    </tr>\n",
              "  </thead>\n",
              "  <tbody>\n",
              "    <tr>\n",
              "      <th>0</th>\n",
              "      <td>8807303</td>\n",
              "    </tr>\n",
              "  </tbody>\n",
              "</table>\n",
              "</div>"
            ],
            "text/plain": [
              "   tip_record_number\n",
              "0            8807303"
            ]
          },
          "metadata": {},
          "execution_count": 7
        }
      ]
    },
    {
      "cell_type": "markdown",
      "metadata": {
        "id": "Fc_clta9g3H5"
      },
      "source": [
        "# Data Exploration"
      ]
    },
    {
      "cell_type": "markdown",
      "metadata": {
        "id": "K0ml8T0Hptbh"
      },
      "source": [
        "Since in this dataset, it has 21 variables, but some of them are not useful for our analysis. For example, variable “extra” means “Miscellaneous extras and surcharges. Currently, this only includes the $0.50 and $1 rush hour and overnight charges”, which means they are all same in our rows and not show difference between rows, so we can drop it from our dataset. \n",
        "\n",
        "\n",
        "As a result, we keep 9 variable, including pickup_datetime, dropoff_datetime, passenger_count, trip_distance, payment_type, tip_amount, fare_amount, total_amount, pickup_location_id, dropoff_location_id, and generate one addictive variable, trip_seconds to measure the duration of the trip, using the time difference between pickup datetime and dropoff datetime. Meanwhile, we delete all the null value."
      ]
    },
    {
      "cell_type": "code",
      "metadata": {
        "colab": {
          "base_uri": "https://localhost:8080/",
          "height": 32
        },
        "id": "QITnAbgAdVmM",
        "outputId": "79edeb96-4d41-4a5f-e826-50cfdde52c3c"
      },
      "source": [
        "%%bigquery --project $project_id\n",
        "\n",
        "#filter useful variables\n",
        "create table cs145-fa21-328321.new_york_green_taxi_tip.dataset1 as\n",
        "select pickup_datetime,dropoff_datetime,passenger_count,trip_distance,payment_type,tip_amount,fare_amount,total_amount,pickup_location_id,dropoff_location_id,\n",
        "time_diff(time(dropoff_datetime),time(pickup_datetime),second) as trip_seconds from\n",
        "`bigquery-public-data.new_york_taxi_trips.tlc_green_trips_2018`\n",
        "where passenger_count is not null  and \n",
        "      passenger_count >=0 and\n",
        "      payment_type is not null and\n",
        "      fare_amount is not null and\n",
        "      fare_amount >= 0 and\n",
        "      total_amount is not null and\n",
        "      total_amount >=0 and\n",
        "      pickup_datetime is not null and\n",
        "      dropoff_datetime is not null and \n",
        "      trip_distance is not null and\n",
        "      trip_distance >=0 and\n",
        "      dropoff_location_id is not null and \n",
        "      pickup_location_id is not null and\n",
        "      tip_amount >=0 and\n",
        "      tip_amount is not null\n"
      ],
      "execution_count": null,
      "outputs": [
        {
          "output_type": "execute_result",
          "data": {
            "text/html": [
              "<div>\n",
              "<style scoped>\n",
              "    .dataframe tbody tr th:only-of-type {\n",
              "        vertical-align: middle;\n",
              "    }\n",
              "\n",
              "    .dataframe tbody tr th {\n",
              "        vertical-align: top;\n",
              "    }\n",
              "\n",
              "    .dataframe thead th {\n",
              "        text-align: right;\n",
              "    }\n",
              "</style>\n",
              "<table border=\"1\" class=\"dataframe\">\n",
              "  <thead>\n",
              "    <tr style=\"text-align: right;\">\n",
              "      <th></th>\n",
              "    </tr>\n",
              "  </thead>\n",
              "  <tbody>\n",
              "  </tbody>\n",
              "</table>\n",
              "</div>"
            ],
            "text/plain": [
              "Empty DataFrame\n",
              "Columns: []\n",
              "Index: []"
            ]
          },
          "metadata": {},
          "execution_count": 82
        }
      ]
    },
    {
      "cell_type": "code",
      "metadata": {
        "colab": {
          "base_uri": "https://localhost:8080/",
          "height": 80
        },
        "id": "Y8zqKlm_fhVB",
        "outputId": "a97374bd-d983-4554-e5f1-2d63ac2d5e8e"
      },
      "source": [
        "%%bigquery --project $project_id\n",
        "\n",
        "\n",
        "#Check the total rows after filtering\n",
        "select count(*) as total_rows from `cs145-fa21-328321.new_york_green_taxi_tip.dataset1`"
      ],
      "execution_count": null,
      "outputs": [
        {
          "output_type": "execute_result",
          "data": {
            "text/html": [
              "<div>\n",
              "<style scoped>\n",
              "    .dataframe tbody tr th:only-of-type {\n",
              "        vertical-align: middle;\n",
              "    }\n",
              "\n",
              "    .dataframe tbody tr th {\n",
              "        vertical-align: top;\n",
              "    }\n",
              "\n",
              "    .dataframe thead th {\n",
              "        text-align: right;\n",
              "    }\n",
              "</style>\n",
              "<table border=\"1\" class=\"dataframe\">\n",
              "  <thead>\n",
              "    <tr style=\"text-align: right;\">\n",
              "      <th></th>\n",
              "      <th>total_rows</th>\n",
              "    </tr>\n",
              "  </thead>\n",
              "  <tbody>\n",
              "    <tr>\n",
              "      <th>0</th>\n",
              "      <td>8784242</td>\n",
              "    </tr>\n",
              "  </tbody>\n",
              "</table>\n",
              "</div>"
            ],
            "text/plain": [
              "   total_rows\n",
              "0     8784242"
            ]
          },
          "metadata": {},
          "execution_count": 9
        }
      ]
    },
    {
      "cell_type": "code",
      "metadata": {
        "colab": {
          "base_uri": "https://localhost:8080/",
          "height": 32
        },
        "id": "aLwto9Y5f28a",
        "outputId": "d17f5fae-b793-4427-9ab2-f858ee843cc2"
      },
      "source": [
        "%%bigquery --project $project_id\n",
        "\n",
        "#The seconds <= 0 is not meaningful, so we just keep the duration which is positive number\n",
        " create table cs145-fa21-328321.new_york_green_taxi_tip.dataset2 as\n",
        " select * from `cs145-fa21-328321.new_york_green_taxi_tip.dataset1`\n",
        " where trip_seconds > 0"
      ],
      "execution_count": null,
      "outputs": [
        {
          "output_type": "execute_result",
          "data": {
            "text/html": [
              "<div>\n",
              "<style scoped>\n",
              "    .dataframe tbody tr th:only-of-type {\n",
              "        vertical-align: middle;\n",
              "    }\n",
              "\n",
              "    .dataframe tbody tr th {\n",
              "        vertical-align: top;\n",
              "    }\n",
              "\n",
              "    .dataframe thead th {\n",
              "        text-align: right;\n",
              "    }\n",
              "</style>\n",
              "<table border=\"1\" class=\"dataframe\">\n",
              "  <thead>\n",
              "    <tr style=\"text-align: right;\">\n",
              "      <th></th>\n",
              "    </tr>\n",
              "  </thead>\n",
              "  <tbody>\n",
              "  </tbody>\n",
              "</table>\n",
              "</div>"
            ],
            "text/plain": [
              "Empty DataFrame\n",
              "Columns: []\n",
              "Index: []"
            ]
          },
          "metadata": {},
          "execution_count": 83
        }
      ]
    },
    {
      "cell_type": "code",
      "metadata": {
        "colab": {
          "base_uri": "https://localhost:8080/",
          "height": 80
        },
        "id": "UqpcBvAIgmYO",
        "outputId": "29fe83f0-898e-4a20-f406-bef219f9f0d8"
      },
      "source": [
        "%%bigquery --project $project_id\n",
        "\n",
        "#Check the total rows after filtering\n",
        "select count(*) as total_rows from `cs145-fa21-328321.new_york_green_taxi_tip.dataset2`"
      ],
      "execution_count": null,
      "outputs": [
        {
          "output_type": "execute_result",
          "data": {
            "text/html": [
              "<div>\n",
              "<style scoped>\n",
              "    .dataframe tbody tr th:only-of-type {\n",
              "        vertical-align: middle;\n",
              "    }\n",
              "\n",
              "    .dataframe tbody tr th {\n",
              "        vertical-align: top;\n",
              "    }\n",
              "\n",
              "    .dataframe thead th {\n",
              "        text-align: right;\n",
              "    }\n",
              "</style>\n",
              "<table border=\"1\" class=\"dataframe\">\n",
              "  <thead>\n",
              "    <tr style=\"text-align: right;\">\n",
              "      <th></th>\n",
              "      <th>total_rows</th>\n",
              "    </tr>\n",
              "  </thead>\n",
              "  <tbody>\n",
              "    <tr>\n",
              "      <th>0</th>\n",
              "      <td>8669046</td>\n",
              "    </tr>\n",
              "  </tbody>\n",
              "</table>\n",
              "</div>"
            ],
            "text/plain": [
              "   total_rows\n",
              "0     8669046"
            ]
          },
          "metadata": {},
          "execution_count": 11
        }
      ]
    },
    {
      "cell_type": "code",
      "metadata": {
        "colab": {
          "base_uri": "https://localhost:8080/",
          "height": 80
        },
        "id": "viZ_PM8TV7dr",
        "outputId": "5c750302-4873-463f-ad5a-7c694492e7d0"
      },
      "source": [
        "%%bigquery --project $project_id \n",
        "#Check the descriptive statistics of tip_amount, including count, mean, max, min\n",
        "select count(tip_amount) as number_of_tips,avg(tip_amount) as mean_of_tip_amount ,min(tip_amount) as minimum_of_tip_amount,max(tip_amount) as max_of_tip_amount from\n",
        "`cs145-fa21-328321.new_york_green_taxi_tip.dataset2`"
      ],
      "execution_count": null,
      "outputs": [
        {
          "output_type": "execute_result",
          "data": {
            "text/html": [
              "<div>\n",
              "<style scoped>\n",
              "    .dataframe tbody tr th:only-of-type {\n",
              "        vertical-align: middle;\n",
              "    }\n",
              "\n",
              "    .dataframe tbody tr th {\n",
              "        vertical-align: top;\n",
              "    }\n",
              "\n",
              "    .dataframe thead th {\n",
              "        text-align: right;\n",
              "    }\n",
              "</style>\n",
              "<table border=\"1\" class=\"dataframe\">\n",
              "  <thead>\n",
              "    <tr style=\"text-align: right;\">\n",
              "      <th></th>\n",
              "      <th>number_of_tips</th>\n",
              "      <th>mean_of_tip_amount</th>\n",
              "      <th>minimum_of_tip_amount</th>\n",
              "      <th>max_of_tip_amount</th>\n",
              "    </tr>\n",
              "  </thead>\n",
              "  <tbody>\n",
              "    <tr>\n",
              "      <th>0</th>\n",
              "      <td>8669046</td>\n",
              "      <td>1.01607247</td>\n",
              "      <td>0</td>\n",
              "      <td>485.55</td>\n",
              "    </tr>\n",
              "  </tbody>\n",
              "</table>\n",
              "</div>"
            ],
            "text/plain": [
              "   number_of_tips mean_of_tip_amount minimum_of_tip_amount max_of_tip_amount\n",
              "0         8669046         1.01607247                     0            485.55"
            ]
          },
          "metadata": {},
          "execution_count": 12
        }
      ]
    },
    {
      "cell_type": "code",
      "metadata": {
        "colab": {
          "base_uri": "https://localhost:8080/",
          "height": 80
        },
        "id": "64P5YoNTnird",
        "outputId": "37153f11-b0ea-4071-e579-5f4a00e3376b"
      },
      "source": [
        "%%bigquery --project $project_id \n",
        "#Chech the percentile of paying tips\n",
        "select countif(tip_amount != 0) as number_of_tips, countif(tip_amount != 0) /(select count(tip_amount) from `cs145-fa21-328321.new_york_green_taxi_tip.dataset2`) as percentile_of_tips\n",
        "from `cs145-fa21-328321.new_york_green_taxi_tip.dataset2`"
      ],
      "execution_count": null,
      "outputs": [
        {
          "output_type": "execute_result",
          "data": {
            "text/html": [
              "<div>\n",
              "<style scoped>\n",
              "    .dataframe tbody tr th:only-of-type {\n",
              "        vertical-align: middle;\n",
              "    }\n",
              "\n",
              "    .dataframe tbody tr th {\n",
              "        vertical-align: top;\n",
              "    }\n",
              "\n",
              "    .dataframe thead th {\n",
              "        text-align: right;\n",
              "    }\n",
              "</style>\n",
              "<table border=\"1\" class=\"dataframe\">\n",
              "  <thead>\n",
              "    <tr style=\"text-align: right;\">\n",
              "      <th></th>\n",
              "      <th>number_of_tips</th>\n",
              "      <th>percentile_of_tips</th>\n",
              "    </tr>\n",
              "  </thead>\n",
              "  <tbody>\n",
              "    <tr>\n",
              "      <th>0</th>\n",
              "      <td>3216968</td>\n",
              "      <td>0.371087</td>\n",
              "    </tr>\n",
              "  </tbody>\n",
              "</table>\n",
              "</div>"
            ],
            "text/plain": [
              "   number_of_tips  percentile_of_tips\n",
              "0         3216968            0.371087"
            ]
          },
          "metadata": {},
          "execution_count": 22
        }
      ]
    },
    {
      "cell_type": "markdown",
      "metadata": {
        "id": "e7u6xDeZsfik"
      },
      "source": [
        "The percentile of trips whose consumers would like to pay tips is 37%. "
      ]
    },
    {
      "cell_type": "code",
      "metadata": {
        "colab": {
          "base_uri": "https://localhost:8080/",
          "height": 80
        },
        "id": "_PRPd_ZUopLm",
        "outputId": "1ee38f1d-66fa-4e6e-85a2-6d119116693f"
      },
      "source": [
        "%%bigquery --project $project_id \n",
        "#Chech the percentile of not paying tips\n",
        "select countif(tip_amount = 0) as number_of_no_tips, countif(tip_amount = 0) /(select count(tip_amount) from `cs145-fa21-328321.new_york_green_taxi_tip.dataset2`) as percentile_of_no_tips\n",
        "from `cs145-fa21-328321.new_york_green_taxi_tip.dataset2`"
      ],
      "execution_count": null,
      "outputs": [
        {
          "output_type": "execute_result",
          "data": {
            "text/html": [
              "<div>\n",
              "<style scoped>\n",
              "    .dataframe tbody tr th:only-of-type {\n",
              "        vertical-align: middle;\n",
              "    }\n",
              "\n",
              "    .dataframe tbody tr th {\n",
              "        vertical-align: top;\n",
              "    }\n",
              "\n",
              "    .dataframe thead th {\n",
              "        text-align: right;\n",
              "    }\n",
              "</style>\n",
              "<table border=\"1\" class=\"dataframe\">\n",
              "  <thead>\n",
              "    <tr style=\"text-align: right;\">\n",
              "      <th></th>\n",
              "      <th>number_of_no_tips</th>\n",
              "      <th>percentile_of_no_tips</th>\n",
              "    </tr>\n",
              "  </thead>\n",
              "  <tbody>\n",
              "    <tr>\n",
              "      <th>0</th>\n",
              "      <td>5452078</td>\n",
              "      <td>0.628913</td>\n",
              "    </tr>\n",
              "  </tbody>\n",
              "</table>\n",
              "</div>"
            ],
            "text/plain": [
              "   number_of_no_tips  percentile_of_no_tips\n",
              "0            5452078               0.628913"
            ]
          },
          "metadata": {},
          "execution_count": 23
        }
      ]
    },
    {
      "cell_type": "markdown",
      "metadata": {
        "id": "NWdtEgWHtLew"
      },
      "source": [
        "The percentile of trips whose consumers would not like to pay tips is 63%. "
      ]
    },
    {
      "cell_type": "code",
      "metadata": {
        "id": "7zCYQ6Z8UHr0"
      },
      "source": [
        "%%bigquery --project $project_id tips\n",
        "select tip_amount\n",
        "from `cs145-fa21-328321.new_york_green_taxi_tip.dataset2`"
      ],
      "execution_count": null,
      "outputs": []
    },
    {
      "cell_type": "code",
      "metadata": {
        "colab": {
          "base_uri": "https://localhost:8080/",
          "height": 645
        },
        "id": "QoPKTstXnIFf",
        "outputId": "a7ef4fa5-12b6-4b58-b544-648f1f9b04ed"
      },
      "source": [
        "tips_sub = tips.sample(3000)\n",
        "plt.figure(figsize=(12,10))\n",
        "x=tips_sub[\"tip_amount\"]\n",
        "plt.hist(x,bins=50)\n",
        "plt.xlabel(\"tip_amount(USD)\",fontsize=12)\n",
        "plt.ylabel(\"number of tip payments\",fontsize=12)\n",
        "plt.title(\"Distribution of tip_amount(with tip=0)\",fontsize=15)"
      ],
      "execution_count": null,
      "outputs": [
        {
          "output_type": "execute_result",
          "data": {
            "text/plain": [
              "Text(0.5, 1.0, 'Distribution of tip_amount(with tip=0)')"
            ]
          },
          "metadata": {},
          "execution_count": 55
        },
        {
          "output_type": "display_data",
          "data": {
            "image/png": "[encoded data removed]",
            "text/plain": [
              "<Figure size 864x720 with 1 Axes>"
            ]
          },
          "metadata": {
            "needs_background": "light"
          }
        }
      ]
    },
    {
      "cell_type": "code",
      "metadata": {
        "colab": {
          "base_uri": "https://localhost:8080/",
          "height": 645
        },
        "id": "UG56kKD_mcpH",
        "outputId": "9b2aca71-60f8-4d42-f36c-05cc1fb700cb"
      },
      "source": [
        "tips_sub = tips.sample(3000)\n",
        "plt.figure(figsize=(12,10))\n",
        "y=tips_sub[\"tip_amount\"][tips_sub[\"tip_amount\"]>0]\n",
        "plt.hist(y,bins=50)\n",
        "plt.xlabel(\"tip_amount(USD)\",fontsize=12)\n",
        "plt.ylabel(\"number of tip payments\",fontsize=12)\n",
        "plt.title(\"Distribution of tip_amount(without tip=0)\",fontsize=15)"
      ],
      "execution_count": null,
      "outputs": [
        {
          "output_type": "execute_result",
          "data": {
            "text/plain": [
              "Text(0.5, 1.0, 'Distribution of tip_amount(without tip=0)')"
            ]
          },
          "metadata": {},
          "execution_count": 56
        },
        {
          "output_type": "display_data",
          "data": {
            "image/png": "[encoded data removed]",
            "text/plain": [
              "<Figure size 864x720 with 1 Axes>"
            ]
          },
          "metadata": {
            "needs_background": "light"
          }
        }
      ]
    },
    {
      "cell_type": "markdown",
      "metadata": {
        "id": "fWEd1bPztnmL"
      },
      "source": [
        "Let's check the relationship between interesting factors and tips."
      ]
    },
    {
      "cell_type": "code",
      "metadata": {
        "colab": {
          "base_uri": "https://localhost:8080/",
          "height": 32
        },
        "id": "YcW27zc9pt8i",
        "outputId": "620b7ef5-106f-450e-a7c5-be1270f98436"
      },
      "source": [
        "%%bigquery --project $project_id \n",
        "#Consruct dataset which the amount of tip  > 0\n",
        "create table cs145-fa21-328321.new_york_green_taxi_tip.dataset3 as\n",
        "select * from \n",
        "`cs145-fa21-328321.new_york_green_taxi_tip.dataset2`\n",
        "where tip_amount>0"
      ],
      "execution_count": null,
      "outputs": [
        {
          "output_type": "execute_result",
          "data": {
            "text/html": [
              "<div>\n",
              "<style scoped>\n",
              "    .dataframe tbody tr th:only-of-type {\n",
              "        vertical-align: middle;\n",
              "    }\n",
              "\n",
              "    .dataframe tbody tr th {\n",
              "        vertical-align: top;\n",
              "    }\n",
              "\n",
              "    .dataframe thead th {\n",
              "        text-align: right;\n",
              "    }\n",
              "</style>\n",
              "<table border=\"1\" class=\"dataframe\">\n",
              "  <thead>\n",
              "    <tr style=\"text-align: right;\">\n",
              "      <th></th>\n",
              "    </tr>\n",
              "  </thead>\n",
              "  <tbody>\n",
              "  </tbody>\n",
              "</table>\n",
              "</div>"
            ],
            "text/plain": [
              "Empty DataFrame\n",
              "Columns: []\n",
              "Index: []"
            ]
          },
          "metadata": {},
          "execution_count": 84
        }
      ]
    },
    {
      "cell_type": "markdown",
      "metadata": {
        "id": "tQCvoRI9vc3c"
      },
      "source": [
        "## Tip VS Trip Distance"
      ]
    },
    {
      "cell_type": "code",
      "metadata": {
        "id": "d1X94y6epLGM"
      },
      "source": [
        "%%bigquery --project $project_id tip_vs_tripdistance\n",
        "#check the relationship between tip amount and trip distance\n",
        "select trip_distance, tip_amount from \n",
        "`cs145-fa21-328321.new_york_green_taxi_tip.dataset3`"
      ],
      "execution_count": null,
      "outputs": []
    },
    {
      "cell_type": "code",
      "metadata": {
        "colab": {
          "base_uri": "https://localhost:8080/",
          "height": 647
        },
        "id": "_kl2131BlD8W",
        "outputId": "f1f8150a-a644-4fb5-88e0-ccc46c2c3b93"
      },
      "source": [
        "#Scatter plot between tip amount and trip distance\n",
        "tip_vs_tripdistance_sub = tip_vs_tripdistance.sample(2000)\n",
        "plt.figure(figsize=(12,10))\n",
        "y=tips_sub[\"tip_amount\"]\n",
        "x=tip_vs_tripdistance_sub[\"trip_distance\"]\n",
        "y=tip_vs_tripdistance_sub[\"tip_amount\"]\n",
        "plt.scatter(x,y,s=5)\n",
        "plt.xscale(\"symlog\")\n",
        "plt.yscale(\"symlog\")\n",
        "plt.ylabel(\"tip_amount($USD)\",fontsize=12)\n",
        "plt.xlabel(\"trip_distance(miles)\",fontsize=12)\n",
        "plt.grid()\n",
        "plt.title(\"Tip VS Trip distance\",fontsize=14)"
      ],
      "execution_count": null,
      "outputs": [
        {
          "output_type": "execute_result",
          "data": {
            "text/plain": [
              "Text(0.5, 1.0, 'Tip VS Trip distance')"
            ]
          },
          "metadata": {},
          "execution_count": 33
        },
        {
          "output_type": "display_data",
          "data": {
            "image/png": "[encoded data removed]",
            "text/plain": [
              "<Figure size 864x720 with 1 Axes>"
            ]
          },
          "metadata": {
            "needs_background": "light"
          }
        }
      ]
    },
    {
      "cell_type": "markdown",
      "metadata": {
        "id": "WP9JsDFawKJ2"
      },
      "source": [
        "Through the scatter plot, we can see that if trip distance increases, customers will be willing to pay more tips. These two factors has a postive correlation."
      ]
    },
    {
      "cell_type": "markdown",
      "metadata": {
        "id": "l7PTZJggwtQL"
      },
      "source": [
        "## Tip VS Trip Duration"
      ]
    },
    {
      "cell_type": "code",
      "metadata": {
        "id": "GqIq7hPGsBJe"
      },
      "source": [
        "#check the relationship between tip amount and trip duration\n",
        "%%bigquery --project $project_id tip_vs_tripduration\n",
        "\n",
        "select trip_seconds, tip_amount from \n",
        "`cs145-fa21-328321.new_york_green_taxi_tip.dataset3`"
      ],
      "execution_count": null,
      "outputs": []
    },
    {
      "cell_type": "code",
      "metadata": {
        "colab": {
          "base_uri": "https://localhost:8080/",
          "height": 647
        },
        "id": "iHkzdeVssTi4",
        "outputId": "87fd3ed9-7651-4fdf-9055-93a724cbb9c2"
      },
      "source": [
        "#Scatter plot between tip amount and trip duration\n",
        "tip_vs_tripduration_sub = tip_vs_tripduration.sample(2000)\n",
        "plt.figure(figsize=(12,10))\n",
        "y=tips_sub[\"tip_amount\"]\n",
        "x=tip_vs_tripduration_sub[\"trip_seconds\"]\n",
        "y=tip_vs_tripduration_sub[\"tip_amount\"]\n",
        "plt.scatter(x,y,s=5)\n",
        "plt.xscale(\"symlog\")\n",
        "plt.yscale(\"symlog\")\n",
        "plt.ylabel(\"tip amount($USD)\",fontsize=12)\n",
        "plt.xlabel(\"trip duration(seconds)\",fontsize=12)\n",
        "plt.grid()\n",
        "plt.title(\"Tip VS Trip Duration\",fontsize=14)"
      ],
      "execution_count": null,
      "outputs": [
        {
          "output_type": "execute_result",
          "data": {
            "text/plain": [
              "Text(0.5, 1.0, 'Tip VS Trip Duration')"
            ]
          },
          "metadata": {},
          "execution_count": 35
        },
        {
          "output_type": "display_data",
          "data": {
            "image/png": "[encoded data removed]",
            "text/plain": [
              "<Figure size 864x720 with 1 Axes>"
            ]
          },
          "metadata": {
            "needs_background": "light"
          }
        }
      ]
    },
    {
      "cell_type": "markdown",
      "metadata": {
        "id": "eU2oioO_xplK"
      },
      "source": [
        "Through the scatter plot, we can see that if trip duration increases, customers will be also willing to pay more tips. These two factors has a relatively postive correlation."
      ]
    },
    {
      "cell_type": "markdown",
      "metadata": {
        "id": "Xdj2YS7Nw9WR"
      },
      "source": [
        "## Tip VS Fare Amount"
      ]
    },
    {
      "cell_type": "code",
      "metadata": {
        "id": "o5c5yg2ssmDU"
      },
      "source": [
        "##check the relationship between tip amount and fare amount\n",
        "%%bigquery --project $project_id tip_vs_tripfare\n",
        "\n",
        "select fare_amount, tip_amount from \n",
        "`cs145-fa21-328321.new_york_green_taxi_tip.dataset3`"
      ],
      "execution_count": null,
      "outputs": []
    },
    {
      "cell_type": "code",
      "metadata": {
        "colab": {
          "base_uri": "https://localhost:8080/",
          "height": 647
        },
        "id": "5Kg6KOOUtAZt",
        "outputId": "9152f32b-5f80-46bf-b230-9a24adafb7d9"
      },
      "source": [
        "#Scatter plot between tip amount and fare amount\n",
        "tip_vs_tripfare_sub = tip_vs_tripfare.sample(2000)\n",
        "plt.figure(figsize=(12,10))\n",
        "y=tips_sub[\"tip_amount\"]\n",
        "x=tip_vs_tripfare_sub[\"fare_amount\"]\n",
        "y=tip_vs_tripfare_sub[\"tip_amount\"]\n",
        "plt.scatter(x,y,s=5)\n",
        "plt.xscale(\"symlog\")\n",
        "plt.yscale(\"symlog\")\n",
        "plt.ylabel(\"tip amount($USD)\",fontsize=12)\n",
        "plt.xlabel(\"fare_amount($USD)\",fontsize=12)\n",
        "plt.grid()\n",
        "plt.title(\"Tip VS Fare Amount \",fontsize=14)"
      ],
      "execution_count": null,
      "outputs": [
        {
          "output_type": "execute_result",
          "data": {
            "text/plain": [
              "Text(0.5, 1.0, 'Tip VS Fare Amount ')"
            ]
          },
          "metadata": {},
          "execution_count": 37
        },
        {
          "output_type": "display_data",
          "data": {
            "image/png": "[encoded data removed]",
            "text/plain": [
              "<Figure size 864x720 with 1 Axes>"
            ]
          },
          "metadata": {
            "needs_background": "light"
          }
        }
      ]
    },
    {
      "cell_type": "markdown",
      "metadata": {
        "id": "OKBTNH1dyTTP"
      },
      "source": [
        "Through the scatter plot, we can see that if fare amount increases, customers will be also willing to pay more tips. These two factors has a relatively postive correlation. Typically, customers may use a percentaile of fare amount to pay the tips, such as 10%, 20% ,etc."
      ]
    },
    {
      "cell_type": "markdown",
      "metadata": {
        "id": "VtzdFwq4NR25"
      },
      "source": [
        "## Tip VS Payment type"
      ]
    },
    {
      "cell_type": "code",
      "metadata": {
        "colab": {
          "base_uri": "https://localhost:8080/",
          "height": 206
        },
        "id": "BhfPYv_uvrP0",
        "outputId": "bd3bf5a7-865f-43f4-89d6-f831a1ca4c55"
      },
      "source": [
        "#Check the relationship between payment_type and tips paying\n",
        "%%bigquery --project $project_id paymenttype1\n",
        "\n",
        "select payment_type, count(tip_amount) as number_of_tip_amount,avg(tip_amount) as average_tip_amount from \n",
        "`cs145-fa21-328321.new_york_green_taxi_tip.dataset2`\n",
        "group by payment_type\n",
        "order by payment_type"
      ],
      "execution_count": null,
      "outputs": [
        {
          "output_type": "execute_result",
          "data": {
            "text/html": [
              "<div>\n",
              "<style scoped>\n",
              "    .dataframe tbody tr th:only-of-type {\n",
              "        vertical-align: middle;\n",
              "    }\n",
              "\n",
              "    .dataframe tbody tr th {\n",
              "        vertical-align: top;\n",
              "    }\n",
              "\n",
              "    .dataframe thead th {\n",
              "        text-align: right;\n",
              "    }\n",
              "</style>\n",
              "<table border=\"1\" class=\"dataframe\">\n",
              "  <thead>\n",
              "    <tr style=\"text-align: right;\">\n",
              "      <th></th>\n",
              "      <th>payment_type</th>\n",
              "      <th>number_of_tip_amount</th>\n",
              "      <th>average_tip_amount</th>\n",
              "    </tr>\n",
              "  </thead>\n",
              "  <tbody>\n",
              "    <tr>\n",
              "      <th>0</th>\n",
              "      <td>1</td>\n",
              "      <td>4948609</td>\n",
              "      <td>1.779874953</td>\n",
              "    </tr>\n",
              "    <tr>\n",
              "      <th>1</th>\n",
              "      <td>2</td>\n",
              "      <td>3683312</td>\n",
              "      <td>0.000003576</td>\n",
              "    </tr>\n",
              "    <tr>\n",
              "      <th>2</th>\n",
              "      <td>3</td>\n",
              "      <td>24138</td>\n",
              "      <td>0.011175325</td>\n",
              "    </tr>\n",
              "    <tr>\n",
              "      <th>3</th>\n",
              "      <td>4</td>\n",
              "      <td>12614</td>\n",
              "      <td>0.013776756</td>\n",
              "    </tr>\n",
              "    <tr>\n",
              "      <th>4</th>\n",
              "      <td>5</td>\n",
              "      <td>373</td>\n",
              "      <td>0.045764075</td>\n",
              "    </tr>\n",
              "  </tbody>\n",
              "</table>\n",
              "</div>"
            ],
            "text/plain": [
              "  payment_type  number_of_tip_amount average_tip_amount\n",
              "0            1               4948609        1.779874953\n",
              "1            2               3683312        0.000003576\n",
              "2            3                 24138        0.011175325\n",
              "3            4                 12614        0.013776756\n",
              "4            5                   373        0.045764075"
            ]
          },
          "metadata": {},
          "execution_count": 50
        }
      ]
    },
    {
      "cell_type": "markdown",
      "metadata": {
        "id": "H2ciUmdquMKF"
      },
      "source": [
        "NOTE. The number of payment type means a numeric code signifying how the passenger paid for the trip. 1= Credit card 2= Cash 3= No charge 4= Dispute 5= Unknown 6= Voided trip\n",
        "\n",
        "As we can see the most 2 popular way is credit card and cash. However, the average of tip for customers using credit card is 1.78 and the average of tip for customers using cash is 0.000003576, which is very close to 0, which we can guess people who use cash to make payments are more likely to choose not to pay tips. A plausible reason may be that using credit card is more convinient to pay and add tips is just to change a number on the screen."
      ]
    },
    {
      "cell_type": "code",
      "metadata": {
        "id": "KT1BJZExu88_"
      },
      "source": [
        "#Check the average of tips under different payment type when the tips >0\n",
        "%%bigquery --project $project_id paymenttype\n",
        "\n",
        "select payment_type, count(tip_amount) as number_of_tip_amount,avg(tip_amount) as average_tip_amount from \n",
        "`cs145-fa21-328321.new_york_green_taxi_tip.dataset3`\n",
        "group by payment_type\n",
        "order by payment_type"
      ],
      "execution_count": null,
      "outputs": []
    },
    {
      "cell_type": "code",
      "metadata": {
        "colab": {
          "base_uri": "https://localhost:8080/",
          "height": 355
        },
        "id": "ihWXqTjZvH2n",
        "outputId": "f92db123-b869-49f7-f333-e9000fb54609"
      },
      "source": [
        "plt.figure(figsize=(11,5))\n",
        "plt.bar(paymenttype[\"payment_type\"],paymenttype[\"number_of_tip_amount\"])\n",
        "plt.yscale(\"symlog\")\n",
        "plt.ylabel(\"# of tip payments per payment type\",fontsize=12)\n",
        "plt.xlabel(\"payment type\",fontsize=12)"
      ],
      "execution_count": null,
      "outputs": [
        {
          "output_type": "execute_result",
          "data": {
            "text/plain": [
              "Text(0.5, 0, 'payment type')"
            ]
          },
          "metadata": {},
          "execution_count": 50
        },
        {
          "output_type": "display_data",
          "data": {
            "image/png": "[encoded data removed]",
            "text/plain": [
              "<Figure size 792x360 with 1 Axes>"
            ]
          },
          "metadata": {
            "needs_background": "light"
          }
        }
      ]
    },
    {
      "cell_type": "markdown",
      "metadata": {
        "id": "4UpXITOTy2G6"
      },
      "source": [
        "Through the table, it is clearly to see that people who would like to use cash to pay fare amount will more likely to refuse to pay tips."
      ]
    },
    {
      "cell_type": "markdown",
      "metadata": {
        "id": "TwYu24YZNIK_"
      },
      "source": [
        "## Tip VS Passenger Amount"
      ]
    },
    {
      "cell_type": "code",
      "metadata": {
        "id": "G-5q16ERMHGX"
      },
      "source": [
        "%%bigquery --project $project_id passenger\n",
        "select passenger_count, avg(tip_amount) as avg_tip_amount from \n",
        "`cs145-fa21-328321.new_york_green_taxi_tip.dataset3`\n",
        "where passenger_count>0\n",
        "group by passenger_count\n",
        "order by passenger_count"
      ],
      "execution_count": null,
      "outputs": []
    },
    {
      "cell_type": "code",
      "metadata": {
        "colab": {
          "base_uri": "https://localhost:8080/",
          "height": 355
        },
        "id": "sbFl9CZVMc7V",
        "outputId": "c60fac3c-e60d-4034-92bc-096c756c2396"
      },
      "source": [
        "plt.figure(figsize=(11,5))\n",
        "plt.bar(passenger[\"passenger_count\"],passenger[\"avg_tip_amount\"])\n",
        "plt.ylabel(\"average tip amount\",fontsize=12)\n",
        "plt.xlabel(\"passenger count\",fontsize=12)"
      ],
      "execution_count": null,
      "outputs": [
        {
          "output_type": "execute_result",
          "data": {
            "text/plain": [
              "Text(0.5, 0, 'passenger count')"
            ]
          },
          "metadata": {},
          "execution_count": 46
        },
        {
          "output_type": "display_data",
          "data": {
            "image/png": "[encoded data removed]",
            "text/plain": [
              "<Figure size 792x360 with 1 Axes>"
            ]
          },
          "metadata": {
            "needs_background": "light"
          }
        }
      ]
    },
    {
      "cell_type": "markdown",
      "metadata": {
        "id": "LsF3-izkO4G-"
      },
      "source": [
        "\n",
        "When passenger amount is quite big, such as 7,8,9, the average amount of tips is also more than small passenger amount. One possible reason is that when there are more passengers, they can share the tips with each other, and the amount of tips will increase, therefore."
      ]
    },
    {
      "cell_type": "markdown",
      "metadata": {
        "id": "Telaq7WkzRX1"
      },
      "source": [
        "# Model Buliding & Data Prediction"
      ]
    },
    {
      "cell_type": "markdown",
      "metadata": {
        "id": "48BggDrDzZn6"
      },
      "source": [
        "Split the dataset into training, validation and testing"
      ]
    },
    {
      "cell_type": "code",
      "metadata": {
        "colab": {
          "base_uri": "https://localhost:8080/",
          "height": 80
        },
        "id": "dUqP30CUz8DB",
        "outputId": "7e4b38f9-8045-4929-ca48-60b1521feed7"
      },
      "source": [
        "%%bigquery --project $project_id\n",
        "#Use data between \"2018-01-01\" and \"2018-08-31\" as trainng dataset, and it has 2248408 rows.\n",
        "select count(tip_amount) from `cs145-fa21-328321.new_york_green_taxi_tip.dataset3`\n",
        "where pickup_datetime between \"2018-01-01\" and \"2018-08-31\""
      ],
      "execution_count": null,
      "outputs": [
        {
          "output_type": "execute_result",
          "data": {
            "text/html": [
              "<div>\n",
              "<style scoped>\n",
              "    .dataframe tbody tr th:only-of-type {\n",
              "        vertical-align: middle;\n",
              "    }\n",
              "\n",
              "    .dataframe tbody tr th {\n",
              "        vertical-align: top;\n",
              "    }\n",
              "\n",
              "    .dataframe thead th {\n",
              "        text-align: right;\n",
              "    }\n",
              "</style>\n",
              "<table border=\"1\" class=\"dataframe\">\n",
              "  <thead>\n",
              "    <tr style=\"text-align: right;\">\n",
              "      <th></th>\n",
              "      <th>f0_</th>\n",
              "    </tr>\n",
              "  </thead>\n",
              "  <tbody>\n",
              "    <tr>\n",
              "      <th>0</th>\n",
              "      <td>2248408</td>\n",
              "    </tr>\n",
              "  </tbody>\n",
              "</table>\n",
              "</div>"
            ],
            "text/plain": [
              "       f0_\n",
              "0  2248408"
            ]
          },
          "metadata": {},
          "execution_count": 58
        }
      ]
    },
    {
      "cell_type": "code",
      "metadata": {
        "colab": {
          "base_uri": "https://localhost:8080/",
          "height": 80
        },
        "id": "CtOg8v6H096D",
        "outputId": "dcb22b13-0e7f-493e-d3f9-ad3e18d77334"
      },
      "source": [
        "%%bigquery --project $project_id\n",
        "#Use data between \"2018-09-01\" and \"2018-10-31\" as validation dataset, and it has 483849 rows.\n",
        "select count(tip_amount) from `cs145-fa21-328321.new_york_green_taxi_tip.dataset3`\n",
        "where pickup_datetime between \"2018-09-01\" and \"2018-10-31\""
      ],
      "execution_count": null,
      "outputs": [
        {
          "output_type": "execute_result",
          "data": {
            "text/html": [
              "<div>\n",
              "<style scoped>\n",
              "    .dataframe tbody tr th:only-of-type {\n",
              "        vertical-align: middle;\n",
              "    }\n",
              "\n",
              "    .dataframe tbody tr th {\n",
              "        vertical-align: top;\n",
              "    }\n",
              "\n",
              "    .dataframe thead th {\n",
              "        text-align: right;\n",
              "    }\n",
              "</style>\n",
              "<table border=\"1\" class=\"dataframe\">\n",
              "  <thead>\n",
              "    <tr style=\"text-align: right;\">\n",
              "      <th></th>\n",
              "      <th>f0_</th>\n",
              "    </tr>\n",
              "  </thead>\n",
              "  <tbody>\n",
              "    <tr>\n",
              "      <th>0</th>\n",
              "      <td>483849</td>\n",
              "    </tr>\n",
              "  </tbody>\n",
              "</table>\n",
              "</div>"
            ],
            "text/plain": [
              "      f0_\n",
              "0  483849"
            ]
          },
          "metadata": {},
          "execution_count": 59
        }
      ]
    },
    {
      "cell_type": "code",
      "metadata": {
        "colab": {
          "base_uri": "https://localhost:8080/",
          "height": 80
        },
        "id": "Ij9CuQS11BpG",
        "outputId": "8e73346b-5064-4823-fd87-9db78d242335"
      },
      "source": [
        "%%bigquery --project $project_id\n",
        "#Use data between \"2018-11-01\" and \"2018-12-31\" as testing dataset, and it has 461809 rows.\n",
        "select count(tip_amount) from `cs145-fa21-328321.new_york_green_taxi_tip.dataset3`\n",
        "where pickup_datetime between \"2018-11-01\" and \"2018-12-31\""
      ],
      "execution_count": null,
      "outputs": [
        {
          "output_type": "execute_result",
          "data": {
            "text/html": [
              "<div>\n",
              "<style scoped>\n",
              "    .dataframe tbody tr th:only-of-type {\n",
              "        vertical-align: middle;\n",
              "    }\n",
              "\n",
              "    .dataframe tbody tr th {\n",
              "        vertical-align: top;\n",
              "    }\n",
              "\n",
              "    .dataframe thead th {\n",
              "        text-align: right;\n",
              "    }\n",
              "</style>\n",
              "<table border=\"1\" class=\"dataframe\">\n",
              "  <thead>\n",
              "    <tr style=\"text-align: right;\">\n",
              "      <th></th>\n",
              "      <th>f0_</th>\n",
              "    </tr>\n",
              "  </thead>\n",
              "  <tbody>\n",
              "    <tr>\n",
              "      <th>0</th>\n",
              "      <td>461809</td>\n",
              "    </tr>\n",
              "  </tbody>\n",
              "</table>\n",
              "</div>"
            ],
            "text/plain": [
              "      f0_\n",
              "0  461809"
            ]
          },
          "metadata": {},
          "execution_count": 60
        }
      ]
    },
    {
      "cell_type": "markdown",
      "metadata": {
        "id": "YgRQmi5K75S7"
      },
      "source": [
        "# Case 1: Predict the tip amount"
      ]
    },
    {
      "cell_type": "markdown",
      "metadata": {
        "id": "Yk3Mr_Sp7qzh"
      },
      "source": [
        "## Linear Regression"
      ]
    },
    {
      "cell_type": "markdown",
      "metadata": {
        "id": "hTRPPRtzWogw"
      },
      "source": [
        "### MODEL 1"
      ]
    },
    {
      "cell_type": "code",
      "metadata": {
        "colab": {
          "base_uri": "https://localhost:8080/",
          "height": 32
        },
        "id": "wSxTXo5ixkxY",
        "outputId": "ce0bcd0d-c6ae-4a62-be19-9a0cef23e032"
      },
      "source": [
        "###Model1: fare_amount (1 factor) vs tips amount using linear regression\n",
        "%%bigquery --project $project_id\n",
        "#Train the model\n",
        "create or replace model `new_york_green_taxi_tip.nyc_tips_model_v1` \n",
        "options(model_type='linear_reg', l2_reg=1) as\n",
        "select \n",
        "  log(tip_amount+1) as label,\n",
        "  log(fare_amount+1) as feature1\n",
        "from\n",
        "`cs145-fa21-328321.new_york_green_taxi_tip.dataset3` \n",
        "where pickup_datetime between \"2018-01-01\" and \"2018-08-31\""
      ],
      "execution_count": null,
      "outputs": [
        {
          "output_type": "execute_result",
          "data": {
            "text/html": [
              "<div>\n",
              "<style scoped>\n",
              "    .dataframe tbody tr th:only-of-type {\n",
              "        vertical-align: middle;\n",
              "    }\n",
              "\n",
              "    .dataframe tbody tr th {\n",
              "        vertical-align: top;\n",
              "    }\n",
              "\n",
              "    .dataframe thead th {\n",
              "        text-align: right;\n",
              "    }\n",
              "</style>\n",
              "<table border=\"1\" class=\"dataframe\">\n",
              "  <thead>\n",
              "    <tr style=\"text-align: right;\">\n",
              "      <th></th>\n",
              "    </tr>\n",
              "  </thead>\n",
              "  <tbody>\n",
              "  </tbody>\n",
              "</table>\n",
              "</div>"
            ],
            "text/plain": [
              "Empty DataFrame\n",
              "Columns: []\n",
              "Index: []"
            ]
          },
          "metadata": {},
          "execution_count": 86
        }
      ]
    },
    {
      "cell_type": "code",
      "metadata": {
        "colab": {
          "base_uri": "https://localhost:8080/",
          "height": 80
        },
        "id": "WfpgEnhjxk1h",
        "outputId": "eb6adea2-d6f5-4663-f726-b80061bf9af4"
      },
      "source": [
        "%%bigquery --project $project_id\n",
        "select *\n",
        "from\n",
        "ml.training_info(model `new_york_green_taxi_tip.nyc_tips_model_v1` )"
      ],
      "execution_count": null,
      "outputs": [
        {
          "output_type": "execute_result",
          "data": {
            "text/html": [
              "<div>\n",
              "<style scoped>\n",
              "    .dataframe tbody tr th:only-of-type {\n",
              "        vertical-align: middle;\n",
              "    }\n",
              "\n",
              "    .dataframe tbody tr th {\n",
              "        vertical-align: top;\n",
              "    }\n",
              "\n",
              "    .dataframe thead th {\n",
              "        text-align: right;\n",
              "    }\n",
              "</style>\n",
              "<table border=\"1\" class=\"dataframe\">\n",
              "  <thead>\n",
              "    <tr style=\"text-align: right;\">\n",
              "      <th></th>\n",
              "      <th>training_run</th>\n",
              "      <th>iteration</th>\n",
              "      <th>loss</th>\n",
              "      <th>eval_loss</th>\n",
              "      <th>learning_rate</th>\n",
              "      <th>duration_ms</th>\n",
              "    </tr>\n",
              "  </thead>\n",
              "  <tbody>\n",
              "    <tr>\n",
              "      <th>0</th>\n",
              "      <td>0</td>\n",
              "      <td>0</td>\n",
              "      <td>0.071991</td>\n",
              "      <td>0.068242</td>\n",
              "      <td>None</td>\n",
              "      <td>21904</td>\n",
              "    </tr>\n",
              "  </tbody>\n",
              "</table>\n",
              "</div>"
            ],
            "text/plain": [
              "   training_run  iteration      loss  eval_loss learning_rate  duration_ms\n",
              "0             0          0  0.071991   0.068242          None        21904"
            ]
          },
          "metadata": {},
          "execution_count": 87
        }
      ]
    },
    {
      "cell_type": "code",
      "metadata": {
        "colab": {
          "base_uri": "https://localhost:8080/",
          "height": 80
        },
        "id": "F4QUy1hOxk5A",
        "outputId": "ee8251aa-21b1-4e46-b6e4-9ad086f7ea04"
      },
      "source": [
        "%%bigquery --project $project_id\n",
        "#Evaluate the model\n",
        "select * from\n",
        "ml.evaluate(model `new_york_green_taxi_tip.nyc_tips_model_v1`, \n",
        "( select\n",
        "  log(tip_amount+1) as label,\n",
        "  log(fare_amount+1) as feature1\n",
        "from `cs145-fa21-328321.new_york_green_taxi_tip.dataset3` \n",
        "where pickup_datetime between \"2018-09-01\" and \"2018-10-31\"))"
      ],
      "execution_count": null,
      "outputs": [
        {
          "output_type": "execute_result",
          "data": {
            "text/html": [
              "<div>\n",
              "<style scoped>\n",
              "    .dataframe tbody tr th:only-of-type {\n",
              "        vertical-align: middle;\n",
              "    }\n",
              "\n",
              "    .dataframe tbody tr th {\n",
              "        vertical-align: top;\n",
              "    }\n",
              "\n",
              "    .dataframe thead th {\n",
              "        text-align: right;\n",
              "    }\n",
              "</style>\n",
              "<table border=\"1\" class=\"dataframe\">\n",
              "  <thead>\n",
              "    <tr style=\"text-align: right;\">\n",
              "      <th></th>\n",
              "      <th>mean_absolute_error</th>\n",
              "      <th>mean_squared_error</th>\n",
              "      <th>mean_squared_log_error</th>\n",
              "      <th>median_absolute_error</th>\n",
              "      <th>r2_score</th>\n",
              "      <th>explained_variance</th>\n",
              "    </tr>\n",
              "  </thead>\n",
              "  <tbody>\n",
              "    <tr>\n",
              "      <th>0</th>\n",
              "      <td>0.170739</td>\n",
              "      <td>0.07447</td>\n",
              "      <td>0.015969</td>\n",
              "      <td>0.104128</td>\n",
              "      <td>0.613727</td>\n",
              "      <td>0.613742</td>\n",
              "    </tr>\n",
              "  </tbody>\n",
              "</table>\n",
              "</div>"
            ],
            "text/plain": [
              "   mean_absolute_error  mean_squared_error  ...  r2_score  explained_variance\n",
              "0             0.170739             0.07447  ...  0.613727            0.613742\n",
              "\n",
              "[1 rows x 6 columns]"
            ]
          },
          "metadata": {},
          "execution_count": 90
        }
      ]
    },
    {
      "cell_type": "markdown",
      "metadata": {
        "id": "o0Z0dFP50War"
      },
      "source": [
        "In this model, r2 score is 0.613727."
      ]
    },
    {
      "cell_type": "code",
      "metadata": {
        "colab": {
          "base_uri": "https://localhost:8080/",
          "height": 363
        },
        "id": "n2Cki2HYI9lu",
        "outputId": "a922a289-3579-4e3f-bb52-c8dfb42ac74e"
      },
      "source": [
        "%%bigquery --project $project_id\n",
        "#Predict\n",
        "select * from\n",
        "ml.predict(model `new_york_green_taxi_tip.nyc_tips_model_v1` , \n",
        "( select \n",
        "  log(fare_amount+1) as feature1\n",
        "from `cs145-fa21-328321.new_york_green_taxi_tip.dataset3` \n",
        "where pickup_datetime between \"2018-11-01\" and \"2018-12-31\"))\n",
        "limit 10"
      ],
      "execution_count": null,
      "outputs": [
        {
          "output_type": "execute_result",
          "data": {
            "text/html": [
              "<div>\n",
              "<style scoped>\n",
              "    .dataframe tbody tr th:only-of-type {\n",
              "        vertical-align: middle;\n",
              "    }\n",
              "\n",
              "    .dataframe tbody tr th {\n",
              "        vertical-align: top;\n",
              "    }\n",
              "\n",
              "    .dataframe thead th {\n",
              "        text-align: right;\n",
              "    }\n",
              "</style>\n",
              "<table border=\"1\" class=\"dataframe\">\n",
              "  <thead>\n",
              "    <tr style=\"text-align: right;\">\n",
              "      <th></th>\n",
              "      <th>predicted_label</th>\n",
              "      <th>feature1</th>\n",
              "    </tr>\n",
              "  </thead>\n",
              "  <tbody>\n",
              "    <tr>\n",
              "      <th>0</th>\n",
              "      <td>2.084238</td>\n",
              "      <td>3.90197267</td>\n",
              "    </tr>\n",
              "    <tr>\n",
              "      <th>1</th>\n",
              "      <td>2.200479</td>\n",
              "      <td>4.094344562</td>\n",
              "    </tr>\n",
              "    <tr>\n",
              "      <th>2</th>\n",
              "      <td>1.781644</td>\n",
              "      <td>3.401197382</td>\n",
              "    </tr>\n",
              "    <tr>\n",
              "      <th>3</th>\n",
              "      <td>1.984958</td>\n",
              "      <td>3.737669618</td>\n",
              "    </tr>\n",
              "    <tr>\n",
              "      <th>4</th>\n",
              "      <td>1.955476</td>\n",
              "      <td>3.688879454</td>\n",
              "    </tr>\n",
              "    <tr>\n",
              "      <th>5</th>\n",
              "      <td>2.114010</td>\n",
              "      <td>3.951243719</td>\n",
              "    </tr>\n",
              "    <tr>\n",
              "      <th>6</th>\n",
              "      <td>2.142384</td>\n",
              "      <td>3.998200702</td>\n",
              "    </tr>\n",
              "    <tr>\n",
              "      <th>7</th>\n",
              "      <td>2.566737</td>\n",
              "      <td>4.700480366</td>\n",
              "    </tr>\n",
              "    <tr>\n",
              "      <th>8</th>\n",
              "      <td>2.071906</td>\n",
              "      <td>3.881563798</td>\n",
              "    </tr>\n",
              "    <tr>\n",
              "      <th>9</th>\n",
              "      <td>1.924482</td>\n",
              "      <td>3.63758616</td>\n",
              "    </tr>\n",
              "  </tbody>\n",
              "</table>\n",
              "</div>"
            ],
            "text/plain": [
              "   predicted_label     feature1\n",
              "0         2.084238   3.90197267\n",
              "1         2.200479  4.094344562\n",
              "2         1.781644  3.401197382\n",
              "3         1.984958  3.737669618\n",
              "4         1.955476  3.688879454\n",
              "5         2.114010  3.951243719\n",
              "6         2.142384  3.998200702\n",
              "7         2.566737  4.700480366\n",
              "8         2.071906  3.881563798\n",
              "9         1.924482   3.63758616"
            ]
          },
          "metadata": {},
          "execution_count": 36
        }
      ]
    },
    {
      "cell_type": "markdown",
      "metadata": {
        "id": "AwNk-5JiWyEb"
      },
      "source": [
        "### MODEL 2"
      ]
    },
    {
      "cell_type": "code",
      "metadata": {
        "colab": {
          "base_uri": "https://localhost:8080/",
          "height": 32
        },
        "id": "bUoZ7ZMQxk7z",
        "outputId": "7323cb5c-0e43-4115-f9a3-3b88ae23b094"
      },
      "source": [
        "\n",
        "###Model2: fare_amount,trip distance (2 factors) vs tips amount using linear regression\n",
        "#Train the model\n",
        "%%bigquery --project $project_id\n",
        "create or replace model `new_york_green_taxi_tip.nyc_tips_model_v2` \n",
        "options(model_type='linear_reg') as\n",
        "select \n",
        "  log(tip_amount+1) as label,\n",
        "  log(fare_amount+1) as feature1,\n",
        "  log(trip_distance+1) as feature2\n",
        "from\n",
        "`cs145-fa21-328321.new_york_green_taxi_tip.dataset3` \n",
        "where pickup_datetime between \"2018-01-01\" and \"2018-08-31\""
      ],
      "execution_count": null,
      "outputs": [
        {
          "output_type": "execute_result",
          "data": {
            "text/html": [
              "<div>\n",
              "<style scoped>\n",
              "    .dataframe tbody tr th:only-of-type {\n",
              "        vertical-align: middle;\n",
              "    }\n",
              "\n",
              "    .dataframe tbody tr th {\n",
              "        vertical-align: top;\n",
              "    }\n",
              "\n",
              "    .dataframe thead th {\n",
              "        text-align: right;\n",
              "    }\n",
              "</style>\n",
              "<table border=\"1\" class=\"dataframe\">\n",
              "  <thead>\n",
              "    <tr style=\"text-align: right;\">\n",
              "      <th></th>\n",
              "    </tr>\n",
              "  </thead>\n",
              "  <tbody>\n",
              "  </tbody>\n",
              "</table>\n",
              "</div>"
            ],
            "text/plain": [
              "Empty DataFrame\n",
              "Columns: []\n",
              "Index: []"
            ]
          },
          "metadata": {},
          "execution_count": 92
        }
      ]
    },
    {
      "cell_type": "code",
      "metadata": {
        "colab": {
          "base_uri": "https://localhost:8080/",
          "height": 80
        },
        "id": "55DOn4Olxk-P",
        "outputId": "ead5b563-bd80-4f02-b987-590fc583d8dd"
      },
      "source": [
        "%%bigquery --project $project_id\n",
        "select *\n",
        "from\n",
        "ml.training_info(model `new_york_green_taxi_tip.nyc_tips_model_v2` )"
      ],
      "execution_count": null,
      "outputs": [
        {
          "output_type": "execute_result",
          "data": {
            "text/html": [
              "<div>\n",
              "<style scoped>\n",
              "    .dataframe tbody tr th:only-of-type {\n",
              "        vertical-align: middle;\n",
              "    }\n",
              "\n",
              "    .dataframe tbody tr th {\n",
              "        vertical-align: top;\n",
              "    }\n",
              "\n",
              "    .dataframe thead th {\n",
              "        text-align: right;\n",
              "    }\n",
              "</style>\n",
              "<table border=\"1\" class=\"dataframe\">\n",
              "  <thead>\n",
              "    <tr style=\"text-align: right;\">\n",
              "      <th></th>\n",
              "      <th>training_run</th>\n",
              "      <th>iteration</th>\n",
              "      <th>loss</th>\n",
              "      <th>eval_loss</th>\n",
              "      <th>learning_rate</th>\n",
              "      <th>duration_ms</th>\n",
              "    </tr>\n",
              "  </thead>\n",
              "  <tbody>\n",
              "    <tr>\n",
              "      <th>0</th>\n",
              "      <td>0</td>\n",
              "      <td>0</td>\n",
              "      <td>0.071713</td>\n",
              "      <td>0.072377</td>\n",
              "      <td>None</td>\n",
              "      <td>24259</td>\n",
              "    </tr>\n",
              "  </tbody>\n",
              "</table>\n",
              "</div>"
            ],
            "text/plain": [
              "   training_run  iteration      loss  eval_loss learning_rate  duration_ms\n",
              "0             0          0  0.071713   0.072377          None        24259"
            ]
          },
          "metadata": {},
          "execution_count": 93
        }
      ]
    },
    {
      "cell_type": "code",
      "metadata": {
        "colab": {
          "base_uri": "https://localhost:8080/",
          "height": 80
        },
        "id": "FjXCDe6-6KP4",
        "outputId": "9e563542-f638-4bb9-9429-802711e5b067"
      },
      "source": [
        "%%bigquery --project $project_id\n",
        "#Evaluate the model\n",
        "select * from\n",
        "ml.evaluate(model `new_york_green_taxi_tip.nyc_tips_model_v2`, \n",
        "( select\n",
        "  log(tip_amount+1) as label,\n",
        "  log(fare_amount+1) as feature1,\n",
        "  log(trip_distance+1) as feature2\n",
        "from `cs145-fa21-328321.new_york_green_taxi_tip.dataset3` \n",
        "where pickup_datetime between \"2018-09-01\" and \"2018-10-31\"))"
      ],
      "execution_count": null,
      "outputs": [
        {
          "output_type": "execute_result",
          "data": {
            "text/html": [
              "<div>\n",
              "<style scoped>\n",
              "    .dataframe tbody tr th:only-of-type {\n",
              "        vertical-align: middle;\n",
              "    }\n",
              "\n",
              "    .dataframe tbody tr th {\n",
              "        vertical-align: top;\n",
              "    }\n",
              "\n",
              "    .dataframe thead th {\n",
              "        text-align: right;\n",
              "    }\n",
              "</style>\n",
              "<table border=\"1\" class=\"dataframe\">\n",
              "  <thead>\n",
              "    <tr style=\"text-align: right;\">\n",
              "      <th></th>\n",
              "      <th>mean_absolute_error</th>\n",
              "      <th>mean_squared_error</th>\n",
              "      <th>mean_squared_log_error</th>\n",
              "      <th>median_absolute_error</th>\n",
              "      <th>r2_score</th>\n",
              "      <th>explained_variance</th>\n",
              "    </tr>\n",
              "  </thead>\n",
              "  <tbody>\n",
              "    <tr>\n",
              "      <th>0</th>\n",
              "      <td>0.170636</td>\n",
              "      <td>0.074161</td>\n",
              "      <td>0.015845</td>\n",
              "      <td>0.104376</td>\n",
              "      <td>0.61533</td>\n",
              "      <td>0.615332</td>\n",
              "    </tr>\n",
              "  </tbody>\n",
              "</table>\n",
              "</div>"
            ],
            "text/plain": [
              "   mean_absolute_error  mean_squared_error  ...  r2_score  explained_variance\n",
              "0             0.170636            0.074161  ...   0.61533            0.615332\n",
              "\n",
              "[1 rows x 6 columns]"
            ]
          },
          "metadata": {},
          "execution_count": 94
        }
      ]
    },
    {
      "cell_type": "code",
      "metadata": {
        "colab": {
          "base_uri": "https://localhost:8080/",
          "height": 363
        },
        "id": "MQsKAfgzGYxF",
        "outputId": "265cb73c-cccf-4d2c-92c7-72302ae21b26"
      },
      "source": [
        "%%bigquery --project $project_id\n",
        "#Predict\n",
        "select * from\n",
        "ml.predict(model `new_york_green_taxi_tip.nyc_tips_model_v2` , \n",
        "( select \n",
        "  log(fare_amount+1) as feature1,\n",
        "  log(trip_distance+1) as feature2\n",
        "from `cs145-fa21-328321.new_york_green_taxi_tip.dataset3` \n",
        "where pickup_datetime between \"2018-11-01\" and \"2018-12-31\"))\n",
        "limit 10"
      ],
      "execution_count": null,
      "outputs": [
        {
          "output_type": "execute_result",
          "data": {
            "text/html": [
              "<div>\n",
              "<style scoped>\n",
              "    .dataframe tbody tr th:only-of-type {\n",
              "        vertical-align: middle;\n",
              "    }\n",
              "\n",
              "    .dataframe tbody tr th {\n",
              "        vertical-align: top;\n",
              "    }\n",
              "\n",
              "    .dataframe thead th {\n",
              "        text-align: right;\n",
              "    }\n",
              "</style>\n",
              "<table border=\"1\" class=\"dataframe\">\n",
              "  <thead>\n",
              "    <tr style=\"text-align: right;\">\n",
              "      <th></th>\n",
              "      <th>predicted_label</th>\n",
              "      <th>feature1</th>\n",
              "      <th>feature2</th>\n",
              "    </tr>\n",
              "  </thead>\n",
              "  <tbody>\n",
              "    <tr>\n",
              "      <th>0</th>\n",
              "      <td>2.101889</td>\n",
              "      <td>3.90197267</td>\n",
              "      <td>2.850706502</td>\n",
              "    </tr>\n",
              "    <tr>\n",
              "      <th>1</th>\n",
              "      <td>2.151871</td>\n",
              "      <td>4.094344562</td>\n",
              "      <td>2.302585093</td>\n",
              "    </tr>\n",
              "    <tr>\n",
              "      <th>2</th>\n",
              "      <td>1.774239</td>\n",
              "      <td>3.401197382</td>\n",
              "      <td>2.066862759</td>\n",
              "    </tr>\n",
              "    <tr>\n",
              "      <th>3</th>\n",
              "      <td>1.980879</td>\n",
              "      <td>3.737669618</td>\n",
              "      <td>2.442347035</td>\n",
              "    </tr>\n",
              "    <tr>\n",
              "      <th>4</th>\n",
              "      <td>1.969444</td>\n",
              "      <td>3.688879454</td>\n",
              "      <td>2.595254707</td>\n",
              "    </tr>\n",
              "    <tr>\n",
              "      <th>5</th>\n",
              "      <td>2.134665</td>\n",
              "      <td>3.951243719</td>\n",
              "      <td>2.93385687</td>\n",
              "    </tr>\n",
              "    <tr>\n",
              "      <th>6</th>\n",
              "      <td>2.142719</td>\n",
              "      <td>3.998200702</td>\n",
              "      <td>2.753660712</td>\n",
              "    </tr>\n",
              "    <tr>\n",
              "      <th>7</th>\n",
              "      <td>2.535743</td>\n",
              "      <td>4.700480366</td>\n",
              "      <td>3.109060959</td>\n",
              "    </tr>\n",
              "    <tr>\n",
              "      <th>8</th>\n",
              "      <td>2.041152</td>\n",
              "      <td>3.881563798</td>\n",
              "      <td>2.288486169</td>\n",
              "    </tr>\n",
              "    <tr>\n",
              "      <th>9</th>\n",
              "      <td>1.922700</td>\n",
              "      <td>3.63758616</td>\n",
              "      <td>2.367436065</td>\n",
              "    </tr>\n",
              "  </tbody>\n",
              "</table>\n",
              "</div>"
            ],
            "text/plain": [
              "   predicted_label     feature1     feature2\n",
              "0         2.101889   3.90197267  2.850706502\n",
              "1         2.151871  4.094344562  2.302585093\n",
              "2         1.774239  3.401197382  2.066862759\n",
              "3         1.980879  3.737669618  2.442347035\n",
              "4         1.969444  3.688879454  2.595254707\n",
              "5         2.134665  3.951243719   2.93385687\n",
              "6         2.142719  3.998200702  2.753660712\n",
              "7         2.535743  4.700480366  3.109060959\n",
              "8         2.041152  3.881563798  2.288486169\n",
              "9         1.922700   3.63758616  2.367436065"
            ]
          },
          "metadata": {},
          "execution_count": 29
        }
      ]
    },
    {
      "cell_type": "markdown",
      "metadata": {
        "id": "EHb0ui3Z0lnn"
      },
      "source": [
        "Compared with model 1, model 2's r2 score increased, but it just increased a little."
      ]
    },
    {
      "cell_type": "markdown",
      "metadata": {
        "id": "gEhggycvW2iA"
      },
      "source": [
        "### MODEL 3"
      ]
    },
    {
      "cell_type": "code",
      "metadata": {
        "colab": {
          "base_uri": "https://localhost:8080/",
          "height": 32
        },
        "id": "S8VTF_vN6KSO",
        "outputId": "21f3bbc4-5d7a-4a98-c186-43c2761f56bf"
      },
      "source": [
        "\n",
        "###Model3: fare_amount,trip distance,trip second (3 factors) vs tips amount using linear regression\n",
        "#Train the model\n",
        "%%bigquery --project $project_id\n",
        "create or replace model `new_york_green_taxi_tip.nyc_tips_model_v3` \n",
        "options(model_type='linear_reg') as\n",
        "select \n",
        "  log(tip_amount+1) as label,\n",
        "  log(fare_amount+1) as feature1,\n",
        "  log(trip_distance+1) as feature2,\n",
        "  log(trip_seconds+1) as feature3\n",
        "from\n",
        "`cs145-fa21-328321.new_york_green_taxi_tip.dataset3` \n",
        "where pickup_datetime between \"2018-01-01\" and \"2018-08-31\""
      ],
      "execution_count": null,
      "outputs": [
        {
          "output_type": "execute_result",
          "data": {
            "text/html": [
              "<div>\n",
              "<style scoped>\n",
              "    .dataframe tbody tr th:only-of-type {\n",
              "        vertical-align: middle;\n",
              "    }\n",
              "\n",
              "    .dataframe tbody tr th {\n",
              "        vertical-align: top;\n",
              "    }\n",
              "\n",
              "    .dataframe thead th {\n",
              "        text-align: right;\n",
              "    }\n",
              "</style>\n",
              "<table border=\"1\" class=\"dataframe\">\n",
              "  <thead>\n",
              "    <tr style=\"text-align: right;\">\n",
              "      <th></th>\n",
              "    </tr>\n",
              "  </thead>\n",
              "  <tbody>\n",
              "  </tbody>\n",
              "</table>\n",
              "</div>"
            ],
            "text/plain": [
              "Empty DataFrame\n",
              "Columns: []\n",
              "Index: []"
            ]
          },
          "metadata": {},
          "execution_count": 97
        }
      ]
    },
    {
      "cell_type": "code",
      "metadata": {
        "colab": {
          "base_uri": "https://localhost:8080/",
          "height": 80
        },
        "id": "D9lULJac6KUd",
        "outputId": "5bad450f-360f-43d0-ef4f-69db317958d8"
      },
      "source": [
        "%%bigquery --project $project_id\n",
        "select *\n",
        "from\n",
        "ml.training_info(model `new_york_green_taxi_tip.nyc_tips_model_v3` )"
      ],
      "execution_count": null,
      "outputs": [
        {
          "output_type": "execute_result",
          "data": {
            "text/html": [
              "<div>\n",
              "<style scoped>\n",
              "    .dataframe tbody tr th:only-of-type {\n",
              "        vertical-align: middle;\n",
              "    }\n",
              "\n",
              "    .dataframe tbody tr th {\n",
              "        vertical-align: top;\n",
              "    }\n",
              "\n",
              "    .dataframe thead th {\n",
              "        text-align: right;\n",
              "    }\n",
              "</style>\n",
              "<table border=\"1\" class=\"dataframe\">\n",
              "  <thead>\n",
              "    <tr style=\"text-align: right;\">\n",
              "      <th></th>\n",
              "      <th>training_run</th>\n",
              "      <th>iteration</th>\n",
              "      <th>loss</th>\n",
              "      <th>eval_loss</th>\n",
              "      <th>learning_rate</th>\n",
              "      <th>duration_ms</th>\n",
              "    </tr>\n",
              "  </thead>\n",
              "  <tbody>\n",
              "    <tr>\n",
              "      <th>0</th>\n",
              "      <td>0</td>\n",
              "      <td>0</td>\n",
              "      <td>0.0711</td>\n",
              "      <td>0.069865</td>\n",
              "      <td>None</td>\n",
              "      <td>22428</td>\n",
              "    </tr>\n",
              "  </tbody>\n",
              "</table>\n",
              "</div>"
            ],
            "text/plain": [
              "   training_run  iteration    loss  eval_loss learning_rate  duration_ms\n",
              "0             0          0  0.0711   0.069865          None        22428"
            ]
          },
          "metadata": {},
          "execution_count": 98
        }
      ]
    },
    {
      "cell_type": "code",
      "metadata": {
        "colab": {
          "base_uri": "https://localhost:8080/",
          "height": 80
        },
        "id": "BlVSf4GG6KWs",
        "outputId": "e43c3f14-0c97-47ca-872b-958e1f0c092d"
      },
      "source": [
        "%%bigquery --project $project_id\n",
        "#Evaluate the model\n",
        "select * from\n",
        "ml.evaluate(model `new_york_green_taxi_tip.nyc_tips_model_v3`, \n",
        "( select\n",
        "  log(tip_amount+1) as label,\n",
        "  log(fare_amount+1) as feature1,\n",
        "  log(trip_distance+1) as feature2,\n",
        "  log(trip_seconds+1) as feature3\n",
        "from `cs145-fa21-328321.new_york_green_taxi_tip.dataset3` \n",
        "where pickup_datetime between \"2018-09-01\" and \"2018-10-31\"))"
      ],
      "execution_count": null,
      "outputs": [
        {
          "output_type": "execute_result",
          "data": {
            "text/html": [
              "<div>\n",
              "<style scoped>\n",
              "    .dataframe tbody tr th:only-of-type {\n",
              "        vertical-align: middle;\n",
              "    }\n",
              "\n",
              "    .dataframe tbody tr th {\n",
              "        vertical-align: top;\n",
              "    }\n",
              "\n",
              "    .dataframe thead th {\n",
              "        text-align: right;\n",
              "    }\n",
              "</style>\n",
              "<table border=\"1\" class=\"dataframe\">\n",
              "  <thead>\n",
              "    <tr style=\"text-align: right;\">\n",
              "      <th></th>\n",
              "      <th>mean_absolute_error</th>\n",
              "      <th>mean_squared_error</th>\n",
              "      <th>mean_squared_log_error</th>\n",
              "      <th>median_absolute_error</th>\n",
              "      <th>r2_score</th>\n",
              "      <th>explained_variance</th>\n",
              "    </tr>\n",
              "  </thead>\n",
              "  <tbody>\n",
              "    <tr>\n",
              "      <th>0</th>\n",
              "      <td>0.171344</td>\n",
              "      <td>0.073511</td>\n",
              "      <td>0.015717</td>\n",
              "      <td>0.105886</td>\n",
              "      <td>0.618702</td>\n",
              "      <td>0.618703</td>\n",
              "    </tr>\n",
              "  </tbody>\n",
              "</table>\n",
              "</div>"
            ],
            "text/plain": [
              "   mean_absolute_error  mean_squared_error  ...  r2_score  explained_variance\n",
              "0             0.171344            0.073511  ...  0.618702            0.618703\n",
              "\n",
              "[1 rows x 6 columns]"
            ]
          },
          "metadata": {},
          "execution_count": 100
        }
      ]
    },
    {
      "cell_type": "markdown",
      "metadata": {
        "id": "3jCxXr_j4Um3"
      },
      "source": [
        "Compared with model 1&2, model 3's r2 score also increased, but again, it just increased a little."
      ]
    },
    {
      "cell_type": "code",
      "metadata": {
        "colab": {
          "base_uri": "https://localhost:8080/",
          "height": 363
        },
        "id": "6iyatYeLIFLb",
        "outputId": "0bd5137f-ee3b-41b0-e355-12c7fc4bfde9"
      },
      "source": [
        "%%bigquery --project $project_id\n",
        "#Predict\n",
        "select * from\n",
        "ml.predict(model `new_york_green_taxi_tip.nyc_tips_model_v3` , \n",
        "( select \n",
        "  log(fare_amount+1) as feature1,\n",
        "  log(trip_distance+1) as feature2,\n",
        "  log(trip_seconds+1) as feature3\n",
        "from `cs145-fa21-328321.new_york_green_taxi_tip.dataset3` \n",
        "where pickup_datetime between \"2018-11-01\" and \"2018-12-31\"))\n",
        "limit 10"
      ],
      "execution_count": null,
      "outputs": [
        {
          "output_type": "execute_result",
          "data": {
            "text/html": [
              "<div>\n",
              "<style scoped>\n",
              "    .dataframe tbody tr th:only-of-type {\n",
              "        vertical-align: middle;\n",
              "    }\n",
              "\n",
              "    .dataframe tbody tr th {\n",
              "        vertical-align: top;\n",
              "    }\n",
              "\n",
              "    .dataframe thead th {\n",
              "        text-align: right;\n",
              "    }\n",
              "</style>\n",
              "<table border=\"1\" class=\"dataframe\">\n",
              "  <thead>\n",
              "    <tr style=\"text-align: right;\">\n",
              "      <th></th>\n",
              "      <th>predicted_label</th>\n",
              "      <th>feature1</th>\n",
              "      <th>feature2</th>\n",
              "      <th>feature3</th>\n",
              "    </tr>\n",
              "  </thead>\n",
              "  <tbody>\n",
              "    <tr>\n",
              "      <th>0</th>\n",
              "      <td>2.132237</td>\n",
              "      <td>3.90197267</td>\n",
              "      <td>2.850706502</td>\n",
              "      <td>7.766417</td>\n",
              "    </tr>\n",
              "    <tr>\n",
              "      <th>1</th>\n",
              "      <td>2.129980</td>\n",
              "      <td>4.094344562</td>\n",
              "      <td>2.302585093</td>\n",
              "      <td>8.674710</td>\n",
              "    </tr>\n",
              "    <tr>\n",
              "      <th>2</th>\n",
              "      <td>1.758349</td>\n",
              "      <td>3.401197382</td>\n",
              "      <td>2.066862759</td>\n",
              "      <td>7.841100</td>\n",
              "    </tr>\n",
              "    <tr>\n",
              "      <th>3</th>\n",
              "      <td>1.978421</td>\n",
              "      <td>3.737669618</td>\n",
              "      <td>2.442347035</td>\n",
              "      <td>8.040769</td>\n",
              "    </tr>\n",
              "    <tr>\n",
              "      <th>4</th>\n",
              "      <td>1.980529</td>\n",
              "      <td>3.688879454</td>\n",
              "      <td>2.595254707</td>\n",
              "      <td>7.808729</td>\n",
              "    </tr>\n",
              "    <tr>\n",
              "      <th>5</th>\n",
              "      <td>2.153027</td>\n",
              "      <td>3.951243719</td>\n",
              "      <td>2.93385687</td>\n",
              "      <td>8.025843</td>\n",
              "    </tr>\n",
              "    <tr>\n",
              "      <th>6</th>\n",
              "      <td>2.145204</td>\n",
              "      <td>3.998200702</td>\n",
              "      <td>2.753660712</td>\n",
              "      <td>8.287528</td>\n",
              "    </tr>\n",
              "    <tr>\n",
              "      <th>7</th>\n",
              "      <td>2.615355</td>\n",
              "      <td>4.700480366</td>\n",
              "      <td>3.109060959</td>\n",
              "      <td>7.822044</td>\n",
              "    </tr>\n",
              "    <tr>\n",
              "      <th>8</th>\n",
              "      <td>2.019986</td>\n",
              "      <td>3.881563798</td>\n",
              "      <td>2.288486169</td>\n",
              "      <td>8.449557</td>\n",
              "    </tr>\n",
              "    <tr>\n",
              "      <th>9</th>\n",
              "      <td>1.911997</td>\n",
              "      <td>3.63758616</td>\n",
              "      <td>2.367436065</td>\n",
              "      <td>8.057694</td>\n",
              "    </tr>\n",
              "  </tbody>\n",
              "</table>\n",
              "</div>"
            ],
            "text/plain": [
              "   predicted_label     feature1     feature2  feature3\n",
              "0         2.132237   3.90197267  2.850706502  7.766417\n",
              "1         2.129980  4.094344562  2.302585093  8.674710\n",
              "2         1.758349  3.401197382  2.066862759  7.841100\n",
              "3         1.978421  3.737669618  2.442347035  8.040769\n",
              "4         1.980529  3.688879454  2.595254707  7.808729\n",
              "5         2.153027  3.951243719   2.93385687  8.025843\n",
              "6         2.145204  3.998200702  2.753660712  8.287528\n",
              "7         2.615355  4.700480366  3.109060959  7.822044\n",
              "8         2.019986  3.881563798  2.288486169  8.449557\n",
              "9         1.911997   3.63758616  2.367436065  8.057694"
            ]
          },
          "metadata": {},
          "execution_count": 30
        }
      ]
    },
    {
      "cell_type": "markdown",
      "metadata": {
        "id": "CUtsS0WvCVyI"
      },
      "source": [
        "### Linear Regression with Regulization(L2)"
      ]
    },
    {
      "cell_type": "code",
      "metadata": {
        "colab": {
          "base_uri": "https://localhost:8080/",
          "height": 32
        },
        "id": "Im8LoeVn_LTK",
        "outputId": "85a8498c-05e8-4967-8841-125eb3238310"
      },
      "source": [
        "###Model7: fare_amount,trip distance,trip second (3 factors) vs tips amount using linear regression\n",
        "#Train the model\n",
        "%%bigquery --project $project_id\n",
        "create or replace model `new_york_green_taxi_tip.nyc_tips_model_v7` \n",
        "options(model_type='linear_reg',l2_reg=0.1) as\n",
        "select \n",
        "  log(tip_amount+1) as label,\n",
        "  log(fare_amount+1) as feature1,\n",
        "  log(trip_distance+1) as feature2,\n",
        "  log(trip_seconds+1) as feature3\n",
        "from\n",
        "`cs145-fa21-328321.new_york_green_taxi_tip.dataset3` \n",
        "where pickup_datetime between \"2018-01-01\" and \"2018-08-31\""
      ],
      "execution_count": null,
      "outputs": [
        {
          "output_type": "execute_result",
          "data": {
            "text/html": [
              "<div>\n",
              "<style scoped>\n",
              "    .dataframe tbody tr th:only-of-type {\n",
              "        vertical-align: middle;\n",
              "    }\n",
              "\n",
              "    .dataframe tbody tr th {\n",
              "        vertical-align: top;\n",
              "    }\n",
              "\n",
              "    .dataframe thead th {\n",
              "        text-align: right;\n",
              "    }\n",
              "</style>\n",
              "<table border=\"1\" class=\"dataframe\">\n",
              "  <thead>\n",
              "    <tr style=\"text-align: right;\">\n",
              "      <th></th>\n",
              "    </tr>\n",
              "  </thead>\n",
              "  <tbody>\n",
              "  </tbody>\n",
              "</table>\n",
              "</div>"
            ],
            "text/plain": [
              "Empty DataFrame\n",
              "Columns: []\n",
              "Index: []"
            ]
          },
          "metadata": {},
          "execution_count": 19
        }
      ]
    },
    {
      "cell_type": "code",
      "metadata": {
        "colab": {
          "base_uri": "https://localhost:8080/",
          "height": 80
        },
        "id": "3RHJV8-m_tfY",
        "outputId": "4509fffe-3262-4d5a-cbe8-e52c8b7c26f7"
      },
      "source": [
        "%%bigquery --project $project_id\n",
        "select *\n",
        "from\n",
        "ml.training_info(model `new_york_green_taxi_tip.nyc_tips_model_v7` )"
      ],
      "execution_count": null,
      "outputs": [
        {
          "output_type": "execute_result",
          "data": {
            "text/html": [
              "<div>\n",
              "<style scoped>\n",
              "    .dataframe tbody tr th:only-of-type {\n",
              "        vertical-align: middle;\n",
              "    }\n",
              "\n",
              "    .dataframe tbody tr th {\n",
              "        vertical-align: top;\n",
              "    }\n",
              "\n",
              "    .dataframe thead th {\n",
              "        text-align: right;\n",
              "    }\n",
              "</style>\n",
              "<table border=\"1\" class=\"dataframe\">\n",
              "  <thead>\n",
              "    <tr style=\"text-align: right;\">\n",
              "      <th></th>\n",
              "      <th>training_run</th>\n",
              "      <th>iteration</th>\n",
              "      <th>loss</th>\n",
              "      <th>eval_loss</th>\n",
              "      <th>learning_rate</th>\n",
              "      <th>duration_ms</th>\n",
              "    </tr>\n",
              "  </thead>\n",
              "  <tbody>\n",
              "    <tr>\n",
              "      <th>0</th>\n",
              "      <td>0</td>\n",
              "      <td>0</td>\n",
              "      <td>0.0711</td>\n",
              "      <td>0.069865</td>\n",
              "      <td>None</td>\n",
              "      <td>23194</td>\n",
              "    </tr>\n",
              "  </tbody>\n",
              "</table>\n",
              "</div>"
            ],
            "text/plain": [
              "   training_run  iteration    loss  eval_loss learning_rate  duration_ms\n",
              "0             0          0  0.0711   0.069865          None        23194"
            ]
          },
          "metadata": {},
          "execution_count": 23
        }
      ]
    },
    {
      "cell_type": "code",
      "metadata": {
        "colab": {
          "base_uri": "https://localhost:8080/",
          "height": 80
        },
        "id": "NYu7b9NO_vJ-",
        "outputId": "64dfe66e-f958-4a31-d437-f955df16477b"
      },
      "source": [
        "%%bigquery --project $project_id\n",
        "#Evaluate the model\n",
        "select * from\n",
        "ml.evaluate(model `new_york_green_taxi_tip.nyc_tips_model_v7`, \n",
        "( select\n",
        "  log(tip_amount+1) as label,\n",
        "  log(fare_amount+1) as feature1,\n",
        "  log(trip_distance+1) as feature2,\n",
        "  log(trip_seconds+1) as feature3\n",
        "from `cs145-fa21-328321.new_york_green_taxi_tip.dataset3` \n",
        "where pickup_datetime between \"2018-09-01\" and \"2018-10-30\"))"
      ],
      "execution_count": null,
      "outputs": [
        {
          "output_type": "execute_result",
          "data": {
            "text/html": [
              "<div>\n",
              "<style scoped>\n",
              "    .dataframe tbody tr th:only-of-type {\n",
              "        vertical-align: middle;\n",
              "    }\n",
              "\n",
              "    .dataframe tbody tr th {\n",
              "        vertical-align: top;\n",
              "    }\n",
              "\n",
              "    .dataframe thead th {\n",
              "        text-align: right;\n",
              "    }\n",
              "</style>\n",
              "<table border=\"1\" class=\"dataframe\">\n",
              "  <thead>\n",
              "    <tr style=\"text-align: right;\">\n",
              "      <th></th>\n",
              "      <th>mean_absolute_error</th>\n",
              "      <th>mean_squared_error</th>\n",
              "      <th>mean_squared_log_error</th>\n",
              "      <th>median_absolute_error</th>\n",
              "      <th>r2_score</th>\n",
              "      <th>explained_variance</th>\n",
              "    </tr>\n",
              "  </thead>\n",
              "  <tbody>\n",
              "    <tr>\n",
              "      <th>0</th>\n",
              "      <td>0.171309</td>\n",
              "      <td>0.073517</td>\n",
              "      <td>0.015716</td>\n",
              "      <td>0.105703</td>\n",
              "      <td>0.618708</td>\n",
              "      <td>0.618709</td>\n",
              "    </tr>\n",
              "  </tbody>\n",
              "</table>\n",
              "</div>"
            ],
            "text/plain": [
              "   mean_absolute_error  mean_squared_error  ...  r2_score  explained_variance\n",
              "0             0.171309            0.073517  ...  0.618708            0.618709\n",
              "\n",
              "[1 rows x 6 columns]"
            ]
          },
          "metadata": {},
          "execution_count": 24
        }
      ]
    },
    {
      "cell_type": "code",
      "metadata": {
        "colab": {
          "base_uri": "https://localhost:8080/",
          "height": 363
        },
        "id": "6FjLx7YyISCN",
        "outputId": "16985fc2-b44e-4336-b746-9a2ce80cc0f3"
      },
      "source": [
        "%%bigquery --project $project_id\n",
        "#Predict\n",
        "select * from\n",
        "ml.predict(model `new_york_green_taxi_tip.nyc_tips_model_v7` , \n",
        "( select \n",
        "  log(fare_amount+1) as feature1,\n",
        "  log(trip_distance+1) as feature2,\n",
        "  log(trip_seconds+1) as feature3\n",
        "from `cs145-fa21-328321.new_york_green_taxi_tip.dataset3` \n",
        "where pickup_datetime between \"2018-11-01\" and \"2018-12-31\"))\n",
        "limit 10"
      ],
      "execution_count": null,
      "outputs": [
        {
          "output_type": "execute_result",
          "data": {
            "text/html": [
              "<div>\n",
              "<style scoped>\n",
              "    .dataframe tbody tr th:only-of-type {\n",
              "        vertical-align: middle;\n",
              "    }\n",
              "\n",
              "    .dataframe tbody tr th {\n",
              "        vertical-align: top;\n",
              "    }\n",
              "\n",
              "    .dataframe thead th {\n",
              "        text-align: right;\n",
              "    }\n",
              "</style>\n",
              "<table border=\"1\" class=\"dataframe\">\n",
              "  <thead>\n",
              "    <tr style=\"text-align: right;\">\n",
              "      <th></th>\n",
              "      <th>predicted_label</th>\n",
              "      <th>feature1</th>\n",
              "      <th>feature2</th>\n",
              "      <th>feature3</th>\n",
              "    </tr>\n",
              "  </thead>\n",
              "  <tbody>\n",
              "    <tr>\n",
              "      <th>0</th>\n",
              "      <td>2.132237</td>\n",
              "      <td>3.90197267</td>\n",
              "      <td>2.850706502</td>\n",
              "      <td>7.766417</td>\n",
              "    </tr>\n",
              "    <tr>\n",
              "      <th>1</th>\n",
              "      <td>2.129980</td>\n",
              "      <td>4.094344562</td>\n",
              "      <td>2.302585093</td>\n",
              "      <td>8.674710</td>\n",
              "    </tr>\n",
              "    <tr>\n",
              "      <th>2</th>\n",
              "      <td>1.758348</td>\n",
              "      <td>3.401197382</td>\n",
              "      <td>2.066862759</td>\n",
              "      <td>7.841100</td>\n",
              "    </tr>\n",
              "    <tr>\n",
              "      <th>3</th>\n",
              "      <td>1.978421</td>\n",
              "      <td>3.737669618</td>\n",
              "      <td>2.442347035</td>\n",
              "      <td>8.040769</td>\n",
              "    </tr>\n",
              "    <tr>\n",
              "      <th>4</th>\n",
              "      <td>1.980529</td>\n",
              "      <td>3.688879454</td>\n",
              "      <td>2.595254707</td>\n",
              "      <td>7.808729</td>\n",
              "    </tr>\n",
              "    <tr>\n",
              "      <th>5</th>\n",
              "      <td>2.153027</td>\n",
              "      <td>3.951243719</td>\n",
              "      <td>2.93385687</td>\n",
              "      <td>8.025843</td>\n",
              "    </tr>\n",
              "    <tr>\n",
              "      <th>6</th>\n",
              "      <td>2.145203</td>\n",
              "      <td>3.998200702</td>\n",
              "      <td>2.753660712</td>\n",
              "      <td>8.287528</td>\n",
              "    </tr>\n",
              "    <tr>\n",
              "      <th>7</th>\n",
              "      <td>2.615355</td>\n",
              "      <td>4.700480366</td>\n",
              "      <td>3.109060959</td>\n",
              "      <td>7.822044</td>\n",
              "    </tr>\n",
              "    <tr>\n",
              "      <th>8</th>\n",
              "      <td>2.019986</td>\n",
              "      <td>3.881563798</td>\n",
              "      <td>2.288486169</td>\n",
              "      <td>8.449557</td>\n",
              "    </tr>\n",
              "    <tr>\n",
              "      <th>9</th>\n",
              "      <td>1.911997</td>\n",
              "      <td>3.63758616</td>\n",
              "      <td>2.367436065</td>\n",
              "      <td>8.057694</td>\n",
              "    </tr>\n",
              "  </tbody>\n",
              "</table>\n",
              "</div>"
            ],
            "text/plain": [
              "   predicted_label     feature1     feature2  feature3\n",
              "0         2.132237   3.90197267  2.850706502  7.766417\n",
              "1         2.129980  4.094344562  2.302585093  8.674710\n",
              "2         1.758348  3.401197382  2.066862759  7.841100\n",
              "3         1.978421  3.737669618  2.442347035  8.040769\n",
              "4         1.980529  3.688879454  2.595254707  7.808729\n",
              "5         2.153027  3.951243719   2.93385687  8.025843\n",
              "6         2.145203  3.998200702  2.753660712  8.287528\n",
              "7         2.615355  4.700480366  3.109060959  7.822044\n",
              "8         2.019986  3.881563798  2.288486169  8.449557\n",
              "9         1.911997   3.63758616  2.367436065  8.057694"
            ]
          },
          "metadata": {},
          "execution_count": 31
        }
      ]
    },
    {
      "cell_type": "markdown",
      "metadata": {
        "id": "0OExU6mJ7jCV"
      },
      "source": [
        "## Boosting Tree Regression"
      ]
    },
    {
      "cell_type": "code",
      "metadata": {
        "colab": {
          "base_uri": "https://localhost:8080/",
          "height": 32
        },
        "id": "dciaINYV6KYy",
        "outputId": "6ac999e0-b275-4a80-afb4-9341cb3a28d6"
      },
      "source": [
        "###Model4: fare_amount,trip distance,trip second (3 factors) vs tips amount using boosted tree regression\n",
        "#Train the model\n",
        "%%bigquery --project $project_id\n",
        "create or replace model `new_york_green_taxi_tip.nyc_tips_model_v4` \n",
        "options(model_type='BOOSTED_TREE_REGRESSOR') as\n",
        "select\n",
        "  log(tip_amount+1) as label,\n",
        "  log(fare_amount+1) as feature1,\n",
        "  log(trip_distance+1) as feature2,\n",
        "  log(trip_seconds+1) as feature3\n",
        "from\n",
        "`cs145-fa21-328321.new_york_green_taxi_tip.dataset3` \n",
        "where pickup_datetime between \"2018-01-01\" and \"2018-08-31\""
      ],
      "execution_count": null,
      "outputs": [
        {
          "output_type": "execute_result",
          "data": {
            "text/html": [
              "<div>\n",
              "<style scoped>\n",
              "    .dataframe tbody tr th:only-of-type {\n",
              "        vertical-align: middle;\n",
              "    }\n",
              "\n",
              "    .dataframe tbody tr th {\n",
              "        vertical-align: top;\n",
              "    }\n",
              "\n",
              "    .dataframe thead th {\n",
              "        text-align: right;\n",
              "    }\n",
              "</style>\n",
              "<table border=\"1\" class=\"dataframe\">\n",
              "  <thead>\n",
              "    <tr style=\"text-align: right;\">\n",
              "      <th></th>\n",
              "    </tr>\n",
              "  </thead>\n",
              "  <tbody>\n",
              "  </tbody>\n",
              "</table>\n",
              "</div>"
            ],
            "text/plain": [
              "Empty DataFrame\n",
              "Columns: []\n",
              "Index: []"
            ]
          },
          "metadata": {},
          "execution_count": 101
        }
      ]
    },
    {
      "cell_type": "code",
      "metadata": {
        "colab": {
          "base_uri": "https://localhost:8080/",
          "height": 331
        },
        "id": "dagrUerD6Ka-",
        "outputId": "504ca9a7-9d8e-4604-9328-e887544c1977"
      },
      "source": [
        "%%bigquery --project $project_id\n",
        "select *\n",
        "from\n",
        "ml.training_info(model `new_york_green_taxi_tip.nyc_tips_model_v4` )"
      ],
      "execution_count": null,
      "outputs": [
        {
          "output_type": "execute_result",
          "data": {
            "text/html": [
              "<div>\n",
              "<style scoped>\n",
              "    .dataframe tbody tr th:only-of-type {\n",
              "        vertical-align: middle;\n",
              "    }\n",
              "\n",
              "    .dataframe tbody tr th {\n",
              "        vertical-align: top;\n",
              "    }\n",
              "\n",
              "    .dataframe thead th {\n",
              "        text-align: right;\n",
              "    }\n",
              "</style>\n",
              "<table border=\"1\" class=\"dataframe\">\n",
              "  <thead>\n",
              "    <tr style=\"text-align: right;\">\n",
              "      <th></th>\n",
              "      <th>training_run</th>\n",
              "      <th>iteration</th>\n",
              "      <th>loss</th>\n",
              "      <th>eval_loss</th>\n",
              "      <th>learning_rate</th>\n",
              "      <th>duration_ms</th>\n",
              "    </tr>\n",
              "  </thead>\n",
              "  <tbody>\n",
              "    <tr>\n",
              "      <th>0</th>\n",
              "      <td>0</td>\n",
              "      <td>9</td>\n",
              "      <td>0.263600</td>\n",
              "      <td>0.261172</td>\n",
              "      <td>0.3</td>\n",
              "      <td>66</td>\n",
              "    </tr>\n",
              "    <tr>\n",
              "      <th>1</th>\n",
              "      <td>0</td>\n",
              "      <td>8</td>\n",
              "      <td>0.265621</td>\n",
              "      <td>0.262996</td>\n",
              "      <td>0.3</td>\n",
              "      <td>49</td>\n",
              "    </tr>\n",
              "    <tr>\n",
              "      <th>2</th>\n",
              "      <td>0</td>\n",
              "      <td>7</td>\n",
              "      <td>0.269647</td>\n",
              "      <td>0.266751</td>\n",
              "      <td>0.3</td>\n",
              "      <td>41</td>\n",
              "    </tr>\n",
              "    <tr>\n",
              "      <th>3</th>\n",
              "      <td>0</td>\n",
              "      <td>6</td>\n",
              "      <td>0.277631</td>\n",
              "      <td>0.274421</td>\n",
              "      <td>0.3</td>\n",
              "      <td>59</td>\n",
              "    </tr>\n",
              "    <tr>\n",
              "      <th>4</th>\n",
              "      <td>0</td>\n",
              "      <td>5</td>\n",
              "      <td>0.293216</td>\n",
              "      <td>0.289665</td>\n",
              "      <td>0.3</td>\n",
              "      <td>53</td>\n",
              "    </tr>\n",
              "    <tr>\n",
              "      <th>5</th>\n",
              "      <td>0</td>\n",
              "      <td>4</td>\n",
              "      <td>0.322643</td>\n",
              "      <td>0.318817</td>\n",
              "      <td>0.3</td>\n",
              "      <td>86</td>\n",
              "    </tr>\n",
              "    <tr>\n",
              "      <th>6</th>\n",
              "      <td>0</td>\n",
              "      <td>3</td>\n",
              "      <td>0.375363</td>\n",
              "      <td>0.371253</td>\n",
              "      <td>0.3</td>\n",
              "      <td>13829</td>\n",
              "    </tr>\n",
              "    <tr>\n",
              "      <th>7</th>\n",
              "      <td>0</td>\n",
              "      <td>2</td>\n",
              "      <td>0.464812</td>\n",
              "      <td>0.460642</td>\n",
              "      <td>0.3</td>\n",
              "      <td>58</td>\n",
              "    </tr>\n",
              "    <tr>\n",
              "      <th>8</th>\n",
              "      <td>0</td>\n",
              "      <td>1</td>\n",
              "      <td>0.607853</td>\n",
              "      <td>0.603741</td>\n",
              "      <td>0.3</td>\n",
              "      <td>163941</td>\n",
              "    </tr>\n",
              "  </tbody>\n",
              "</table>\n",
              "</div>"
            ],
            "text/plain": [
              "   training_run  iteration      loss  eval_loss  learning_rate  duration_ms\n",
              "0             0          9  0.263600   0.261172            0.3           66\n",
              "1             0          8  0.265621   0.262996            0.3           49\n",
              "2             0          7  0.269647   0.266751            0.3           41\n",
              "3             0          6  0.277631   0.274421            0.3           59\n",
              "4             0          5  0.293216   0.289665            0.3           53\n",
              "5             0          4  0.322643   0.318817            0.3           86\n",
              "6             0          3  0.375363   0.371253            0.3        13829\n",
              "7             0          2  0.464812   0.460642            0.3           58\n",
              "8             0          1  0.607853   0.603741            0.3       163941"
            ]
          },
          "metadata": {},
          "execution_count": 102
        }
      ]
    },
    {
      "cell_type": "code",
      "metadata": {
        "colab": {
          "base_uri": "https://localhost:8080/",
          "height": 80
        },
        "id": "-lcxb3gp6Kdm",
        "outputId": "d54cd704-557f-4b8c-cfeb-186940603e8f"
      },
      "source": [
        "%%bigquery --project $project_id\n",
        "#Evaluate the model\n",
        "select * from\n",
        "ml.evaluate(model `new_york_green_taxi_tip.nyc_tips_model_v4`, \n",
        "( select\n",
        "  log(tip_amount+1) as label,\n",
        "  log(fare_amount+1) as feature1,\n",
        "  log(trip_distance+1) as feature2,\n",
        "  log(trip_seconds+1) as feature3\n",
        "from `cs145-fa21-328321.new_york_green_taxi_tip.dataset3` \n",
        "where pickup_datetime between \"2018-09-01\" and \"2018-10-31\"))"
      ],
      "execution_count": null,
      "outputs": [
        {
          "output_type": "execute_result",
          "data": {
            "text/html": [
              "<div>\n",
              "<style scoped>\n",
              "    .dataframe tbody tr th:only-of-type {\n",
              "        vertical-align: middle;\n",
              "    }\n",
              "\n",
              "    .dataframe tbody tr th {\n",
              "        vertical-align: top;\n",
              "    }\n",
              "\n",
              "    .dataframe thead th {\n",
              "        text-align: right;\n",
              "    }\n",
              "</style>\n",
              "<table border=\"1\" class=\"dataframe\">\n",
              "  <thead>\n",
              "    <tr style=\"text-align: right;\">\n",
              "      <th></th>\n",
              "      <th>mean_absolute_error</th>\n",
              "      <th>mean_squared_error</th>\n",
              "      <th>mean_squared_log_error</th>\n",
              "      <th>median_absolute_error</th>\n",
              "      <th>r2_score</th>\n",
              "      <th>explained_variance</th>\n",
              "    </tr>\n",
              "  </thead>\n",
              "  <tbody>\n",
              "    <tr>\n",
              "      <th>0</th>\n",
              "      <td>0.18097</td>\n",
              "      <td>0.071935</td>\n",
              "      <td>0.015191</td>\n",
              "      <td>0.125026</td>\n",
              "      <td>0.626874</td>\n",
              "      <td>0.630825</td>\n",
              "    </tr>\n",
              "  </tbody>\n",
              "</table>\n",
              "</div>"
            ],
            "text/plain": [
              "   mean_absolute_error  mean_squared_error  ...  r2_score  explained_variance\n",
              "0              0.18097            0.071935  ...  0.626874            0.630825\n",
              "\n",
              "[1 rows x 6 columns]"
            ]
          },
          "metadata": {},
          "execution_count": 103
        }
      ]
    },
    {
      "cell_type": "markdown",
      "metadata": {
        "id": "m3dV3a617Wiq"
      },
      "source": [
        "Compared to linear regression, the performance of boosting tree model is quite cloes to linear regression model."
      ]
    },
    {
      "cell_type": "code",
      "metadata": {
        "colab": {
          "base_uri": "https://localhost:8080/",
          "height": 363
        },
        "id": "ViSz5AwIIcJg",
        "outputId": "4db030f6-d41a-4b13-a7dd-a9c88f4ceba3"
      },
      "source": [
        "%%bigquery --project $project_id\n",
        "#Predict\n",
        "select * from\n",
        "ml.predict(model `new_york_green_taxi_tip.nyc_tips_model_v4` , \n",
        "( select \n",
        "  log(fare_amount+1) as feature1,\n",
        "  log(trip_distance+1) as feature2,\n",
        "  log(trip_seconds+1) as feature3\n",
        "from `cs145-fa21-328321.new_york_green_taxi_tip.dataset3` \n",
        "where pickup_datetime between \"2018-11-01\" and \"2018-12-31\"))\n",
        "limit 10"
      ],
      "execution_count": null,
      "outputs": [
        {
          "output_type": "execute_result",
          "data": {
            "text/html": [
              "<div>\n",
              "<style scoped>\n",
              "    .dataframe tbody tr th:only-of-type {\n",
              "        vertical-align: middle;\n",
              "    }\n",
              "\n",
              "    .dataframe tbody tr th {\n",
              "        vertical-align: top;\n",
              "    }\n",
              "\n",
              "    .dataframe thead th {\n",
              "        text-align: right;\n",
              "    }\n",
              "</style>\n",
              "<table border=\"1\" class=\"dataframe\">\n",
              "  <thead>\n",
              "    <tr style=\"text-align: right;\">\n",
              "      <th></th>\n",
              "      <th>predicted_label</th>\n",
              "      <th>feature1</th>\n",
              "      <th>feature2</th>\n",
              "      <th>feature3</th>\n",
              "    </tr>\n",
              "  </thead>\n",
              "  <tbody>\n",
              "    <tr>\n",
              "      <th>0</th>\n",
              "      <td>2.256479</td>\n",
              "      <td>3.90197267</td>\n",
              "      <td>2.850706502</td>\n",
              "      <td>7.766417</td>\n",
              "    </tr>\n",
              "    <tr>\n",
              "      <th>1</th>\n",
              "      <td>2.177710</td>\n",
              "      <td>4.094344562</td>\n",
              "      <td>2.302585093</td>\n",
              "      <td>8.674710</td>\n",
              "    </tr>\n",
              "    <tr>\n",
              "      <th>2</th>\n",
              "      <td>1.758507</td>\n",
              "      <td>3.401197382</td>\n",
              "      <td>2.066862759</td>\n",
              "      <td>7.841100</td>\n",
              "    </tr>\n",
              "    <tr>\n",
              "      <th>3</th>\n",
              "      <td>2.002385</td>\n",
              "      <td>3.737669618</td>\n",
              "      <td>2.442347035</td>\n",
              "      <td>8.040769</td>\n",
              "    </tr>\n",
              "    <tr>\n",
              "      <th>4</th>\n",
              "      <td>1.998212</td>\n",
              "      <td>3.688879454</td>\n",
              "      <td>2.595254707</td>\n",
              "      <td>7.808729</td>\n",
              "    </tr>\n",
              "    <tr>\n",
              "      <th>5</th>\n",
              "      <td>2.337722</td>\n",
              "      <td>3.951243719</td>\n",
              "      <td>2.93385687</td>\n",
              "      <td>8.025843</td>\n",
              "    </tr>\n",
              "    <tr>\n",
              "      <th>6</th>\n",
              "      <td>2.337722</td>\n",
              "      <td>3.998200702</td>\n",
              "      <td>2.753660712</td>\n",
              "      <td>8.287528</td>\n",
              "    </tr>\n",
              "    <tr>\n",
              "      <th>7</th>\n",
              "      <td>2.256479</td>\n",
              "      <td>4.700480366</td>\n",
              "      <td>3.109060959</td>\n",
              "      <td>7.822044</td>\n",
              "    </tr>\n",
              "    <tr>\n",
              "      <th>8</th>\n",
              "      <td>2.177710</td>\n",
              "      <td>3.881563798</td>\n",
              "      <td>2.288486169</td>\n",
              "      <td>8.449557</td>\n",
              "    </tr>\n",
              "    <tr>\n",
              "      <th>9</th>\n",
              "      <td>1.969173</td>\n",
              "      <td>3.63758616</td>\n",
              "      <td>2.367436065</td>\n",
              "      <td>8.057694</td>\n",
              "    </tr>\n",
              "  </tbody>\n",
              "</table>\n",
              "</div>"
            ],
            "text/plain": [
              "   predicted_label     feature1     feature2  feature3\n",
              "0         2.256479   3.90197267  2.850706502  7.766417\n",
              "1         2.177710  4.094344562  2.302585093  8.674710\n",
              "2         1.758507  3.401197382  2.066862759  7.841100\n",
              "3         2.002385  3.737669618  2.442347035  8.040769\n",
              "4         1.998212  3.688879454  2.595254707  7.808729\n",
              "5         2.337722  3.951243719   2.93385687  8.025843\n",
              "6         2.337722  3.998200702  2.753660712  8.287528\n",
              "7         2.256479  4.700480366  3.109060959  7.822044\n",
              "8         2.177710  3.881563798  2.288486169  8.449557\n",
              "9         1.969173   3.63758616  2.367436065  8.057694"
            ]
          },
          "metadata": {},
          "execution_count": 32
        }
      ]
    },
    {
      "cell_type": "markdown",
      "metadata": {
        "id": "4qCjKtKX8YzM"
      },
      "source": [
        "# Case 2: Classify whether pay tips or not"
      ]
    },
    {
      "cell_type": "markdown",
      "metadata": {
        "id": "fS8lBPKo8iRT"
      },
      "source": [
        "First, we use whether pay the tips as catogory variable, and add payment type, passenger amount into the model."
      ]
    },
    {
      "cell_type": "code",
      "metadata": {
        "colab": {
          "base_uri": "https://localhost:8080/",
          "height": 32
        },
        "id": "dbRbRllb7gBa",
        "outputId": "61284398-eff9-496a-86df-dfdffb90ab97"
      },
      "source": [
        "%%bigquery --project $project_id\n",
        "create table cs145-fa21-328321.new_york_green_taxi_tip.dataset5 as\n",
        "select *,(case when payment_type=\"1\" then 1\n",
        "              when payment_type=\"2\" then 0\n",
        "             end\n",
        ")as credit_card,\n",
        "         (case when tip_amount =0 then 0\n",
        "           when  tip_amount > 0  then 1\n",
        "             end\n",
        ")as tip_or_not,\n",
        "from `cs145-fa21-328321.new_york_green_taxi_tip.dataset2` "
      ],
      "execution_count": null,
      "outputs": [
        {
          "output_type": "execute_result",
          "data": {
            "text/html": [
              "<div>\n",
              "<style scoped>\n",
              "    .dataframe tbody tr th:only-of-type {\n",
              "        vertical-align: middle;\n",
              "    }\n",
              "\n",
              "    .dataframe tbody tr th {\n",
              "        vertical-align: top;\n",
              "    }\n",
              "\n",
              "    .dataframe thead th {\n",
              "        text-align: right;\n",
              "    }\n",
              "</style>\n",
              "<table border=\"1\" class=\"dataframe\">\n",
              "  <thead>\n",
              "    <tr style=\"text-align: right;\">\n",
              "      <th></th>\n",
              "    </tr>\n",
              "  </thead>\n",
              "  <tbody>\n",
              "  </tbody>\n",
              "</table>\n",
              "</div>"
            ],
            "text/plain": [
              "Empty DataFrame\n",
              "Columns: []\n",
              "Index: []"
            ]
          },
          "metadata": {},
          "execution_count": 107
        }
      ]
    },
    {
      "cell_type": "code",
      "metadata": {
        "colab": {
          "base_uri": "https://localhost:8080/",
          "height": 32
        },
        "id": "N0gcMmpzGeDm",
        "outputId": "24d92917-ec62-4013-8967-6fd1b5fd1c8c"
      },
      "source": [
        "%%bigquery --project $project_id\n",
        "#filter the null value of payment_type\n",
        "create table cs145-fa21-328321.new_york_green_taxi_tip.dataset6 as\n",
        "select *\n",
        "from `cs145-fa21-328321.new_york_green_taxi_tip.dataset5` \n",
        "where credit_card is not null"
      ],
      "execution_count": null,
      "outputs": [
        {
          "output_type": "execute_result",
          "data": {
            "text/html": [
              "<div>\n",
              "<style scoped>\n",
              "    .dataframe tbody tr th:only-of-type {\n",
              "        vertical-align: middle;\n",
              "    }\n",
              "\n",
              "    .dataframe tbody tr th {\n",
              "        vertical-align: top;\n",
              "    }\n",
              "\n",
              "    .dataframe thead th {\n",
              "        text-align: right;\n",
              "    }\n",
              "</style>\n",
              "<table border=\"1\" class=\"dataframe\">\n",
              "  <thead>\n",
              "    <tr style=\"text-align: right;\">\n",
              "      <th></th>\n",
              "    </tr>\n",
              "  </thead>\n",
              "  <tbody>\n",
              "  </tbody>\n",
              "</table>\n",
              "</div>"
            ],
            "text/plain": [
              "Empty DataFrame\n",
              "Columns: []\n",
              "Index: []"
            ]
          },
          "metadata": {},
          "execution_count": 108
        }
      ]
    },
    {
      "cell_type": "markdown",
      "metadata": {
        "id": "f7GK-2L089CH"
      },
      "source": [
        "##   Logistic Regression"
      ]
    },
    {
      "cell_type": "code",
      "metadata": {
        "colab": {
          "base_uri": "https://localhost:8080/",
          "height": 32
        },
        "id": "x79gEaCg7gMO",
        "outputId": "5dc6f7e3-536c-4b84-b2dc-d3e9208f3c4d"
      },
      "source": [
        "%%bigquery --project $project_id\n",
        "#Train the model\n",
        "create or replace model `new_york_green_taxi_tip.nyc_tips_model_v5` \n",
        "options(model_type='logistic_reg') as\n",
        "select \n",
        "  tip_or_not as label,\n",
        "  log(fare_amount+1) as feature1,\n",
        "  log(trip_distance+1) as feature2,\n",
        "  log(trip_seconds+1) as feature3,\n",
        "  credit_card as feature4,\n",
        "  passenger_count as feature5\n",
        "from\n",
        "`cs145-fa21-328321.new_york_green_taxi_tip.dataset6` \n",
        "where pickup_datetime between \"2018-01-01\" and \"2018-08-31\""
      ],
      "execution_count": null,
      "outputs": [
        {
          "output_type": "execute_result",
          "data": {
            "text/html": [
              "<div>\n",
              "<style scoped>\n",
              "    .dataframe tbody tr th:only-of-type {\n",
              "        vertical-align: middle;\n",
              "    }\n",
              "\n",
              "    .dataframe tbody tr th {\n",
              "        vertical-align: top;\n",
              "    }\n",
              "\n",
              "    .dataframe thead th {\n",
              "        text-align: right;\n",
              "    }\n",
              "</style>\n",
              "<table border=\"1\" class=\"dataframe\">\n",
              "  <thead>\n",
              "    <tr style=\"text-align: right;\">\n",
              "      <th></th>\n",
              "    </tr>\n",
              "  </thead>\n",
              "  <tbody>\n",
              "  </tbody>\n",
              "</table>\n",
              "</div>"
            ],
            "text/plain": [
              "Empty DataFrame\n",
              "Columns: []\n",
              "Index: []"
            ]
          },
          "metadata": {},
          "execution_count": 109
        }
      ]
    },
    {
      "cell_type": "code",
      "metadata": {
        "colab": {
          "base_uri": "https://localhost:8080/",
          "height": 300
        },
        "id": "RZGJ2DU1Hc0p",
        "outputId": "bf62b00d-e1ec-4dc0-f3f1-6a39d0d49d2a"
      },
      "source": [
        "%%bigquery --project $project_id\n",
        "select *\n",
        "from\n",
        "ml.training_info(model `new_york_green_taxi_tip.nyc_tips_model_v5` )"
      ],
      "execution_count": null,
      "outputs": [
        {
          "output_type": "execute_result",
          "data": {
            "text/html": [
              "<div>\n",
              "<style scoped>\n",
              "    .dataframe tbody tr th:only-of-type {\n",
              "        vertical-align: middle;\n",
              "    }\n",
              "\n",
              "    .dataframe tbody tr th {\n",
              "        vertical-align: top;\n",
              "    }\n",
              "\n",
              "    .dataframe thead th {\n",
              "        text-align: right;\n",
              "    }\n",
              "</style>\n",
              "<table border=\"1\" class=\"dataframe\">\n",
              "  <thead>\n",
              "    <tr style=\"text-align: right;\">\n",
              "      <th></th>\n",
              "      <th>training_run</th>\n",
              "      <th>iteration</th>\n",
              "      <th>loss</th>\n",
              "      <th>eval_loss</th>\n",
              "      <th>learning_rate</th>\n",
              "      <th>duration_ms</th>\n",
              "    </tr>\n",
              "  </thead>\n",
              "  <tbody>\n",
              "    <tr>\n",
              "      <th>0</th>\n",
              "      <td>0</td>\n",
              "      <td>7</td>\n",
              "      <td>0.342822</td>\n",
              "      <td>0.346112</td>\n",
              "      <td>25.6</td>\n",
              "      <td>29756</td>\n",
              "    </tr>\n",
              "    <tr>\n",
              "      <th>1</th>\n",
              "      <td>0</td>\n",
              "      <td>6</td>\n",
              "      <td>0.349089</td>\n",
              "      <td>0.352139</td>\n",
              "      <td>12.8</td>\n",
              "      <td>30271</td>\n",
              "    </tr>\n",
              "    <tr>\n",
              "      <th>2</th>\n",
              "      <td>0</td>\n",
              "      <td>5</td>\n",
              "      <td>0.366975</td>\n",
              "      <td>0.369888</td>\n",
              "      <td>6.4</td>\n",
              "      <td>28667</td>\n",
              "    </tr>\n",
              "    <tr>\n",
              "      <th>3</th>\n",
              "      <td>0</td>\n",
              "      <td>4</td>\n",
              "      <td>0.405343</td>\n",
              "      <td>0.407242</td>\n",
              "      <td>3.2</td>\n",
              "      <td>32839</td>\n",
              "    </tr>\n",
              "    <tr>\n",
              "      <th>4</th>\n",
              "      <td>0</td>\n",
              "      <td>3</td>\n",
              "      <td>0.474947</td>\n",
              "      <td>0.475701</td>\n",
              "      <td>1.6</td>\n",
              "      <td>31258</td>\n",
              "    </tr>\n",
              "    <tr>\n",
              "      <th>5</th>\n",
              "      <td>0</td>\n",
              "      <td>2</td>\n",
              "      <td>0.557428</td>\n",
              "      <td>0.557636</td>\n",
              "      <td>0.8</td>\n",
              "      <td>29637</td>\n",
              "    </tr>\n",
              "    <tr>\n",
              "      <th>6</th>\n",
              "      <td>0</td>\n",
              "      <td>1</td>\n",
              "      <td>0.624776</td>\n",
              "      <td>0.624814</td>\n",
              "      <td>0.4</td>\n",
              "      <td>31851</td>\n",
              "    </tr>\n",
              "    <tr>\n",
              "      <th>7</th>\n",
              "      <td>0</td>\n",
              "      <td>0</td>\n",
              "      <td>0.668335</td>\n",
              "      <td>0.668337</td>\n",
              "      <td>0.2</td>\n",
              "      <td>21906</td>\n",
              "    </tr>\n",
              "  </tbody>\n",
              "</table>\n",
              "</div>"
            ],
            "text/plain": [
              "   training_run  iteration      loss  eval_loss  learning_rate  duration_ms\n",
              "0             0          7  0.342822   0.346112           25.6        29756\n",
              "1             0          6  0.349089   0.352139           12.8        30271\n",
              "2             0          5  0.366975   0.369888            6.4        28667\n",
              "3             0          4  0.405343   0.407242            3.2        32839\n",
              "4             0          3  0.474947   0.475701            1.6        31258\n",
              "5             0          2  0.557428   0.557636            0.8        29637\n",
              "6             0          1  0.624776   0.624814            0.4        31851\n",
              "7             0          0  0.668335   0.668337            0.2        21906"
            ]
          },
          "metadata": {},
          "execution_count": 111
        }
      ]
    },
    {
      "cell_type": "code",
      "metadata": {
        "colab": {
          "base_uri": "https://localhost:8080/",
          "height": 80
        },
        "id": "b4EbVrgHHjbU",
        "outputId": "b5d25d86-d230-47f4-e4fb-fe9da09f860f"
      },
      "source": [
        "%%bigquery --project $project_id\n",
        "#Evaluate the model\n",
        "select * from\n",
        "ml.evaluate(model `new_york_green_taxi_tip.nyc_tips_model_v5`, \n",
        "( select\n",
        "  tip_or_not as label,\n",
        "  log(fare_amount+1) as feature1,\n",
        "  log(trip_distance+1) as feature2,\n",
        "  log(trip_seconds+1) as feature3,\n",
        "  credit_card as feature4,\n",
        "  passenger_count as feature5\n",
        "from `cs145-fa21-328321.new_york_green_taxi_tip.dataset6` \n",
        "where pickup_datetime between \"2018-09-01\" and \"2018-10-31\"))"
      ],
      "execution_count": null,
      "outputs": [
        {
          "output_type": "execute_result",
          "data": {
            "text/html": [
              "<div>\n",
              "<style scoped>\n",
              "    .dataframe tbody tr th:only-of-type {\n",
              "        vertical-align: middle;\n",
              "    }\n",
              "\n",
              "    .dataframe tbody tr th {\n",
              "        vertical-align: top;\n",
              "    }\n",
              "\n",
              "    .dataframe thead th {\n",
              "        text-align: right;\n",
              "    }\n",
              "</style>\n",
              "<table border=\"1\" class=\"dataframe\">\n",
              "  <thead>\n",
              "    <tr style=\"text-align: right;\">\n",
              "      <th></th>\n",
              "      <th>precision</th>\n",
              "      <th>recall</th>\n",
              "      <th>accuracy</th>\n",
              "      <th>f1_score</th>\n",
              "      <th>log_loss</th>\n",
              "      <th>roc_auc</th>\n",
              "    </tr>\n",
              "  </thead>\n",
              "  <tbody>\n",
              "    <tr>\n",
              "      <th>0</th>\n",
              "      <td>0.61904</td>\n",
              "      <td>0.993673</td>\n",
              "      <td>0.774794</td>\n",
              "      <td>0.762843</td>\n",
              "      <td>0.392242</td>\n",
              "      <td>0.882827</td>\n",
              "    </tr>\n",
              "  </tbody>\n",
              "</table>\n",
              "</div>"
            ],
            "text/plain": [
              "   precision    recall  accuracy  f1_score  log_loss   roc_auc\n",
              "0    0.61904  0.993673  0.774794  0.762843  0.392242  0.882827"
            ]
          },
          "metadata": {},
          "execution_count": 112
        }
      ]
    },
    {
      "cell_type": "markdown",
      "metadata": {
        "id": "0YOqDkr5JpvM"
      },
      "source": [
        ""
      ]
    },
    {
      "cell_type": "markdown",
      "metadata": {
        "id": "jx9yWD9kJqDx"
      },
      "source": [
        "Through the result, we can see the preformace of this model is quite good, recall could be close to 1."
      ]
    },
    {
      "cell_type": "code",
      "metadata": {
        "colab": {
          "base_uri": "https://localhost:8080/",
          "height": 363
        },
        "id": "z-88rmI_IhTg",
        "outputId": "8ca871c8-f098-4cb2-8ec4-a11f41513164"
      },
      "source": [
        "%%bigquery --project $project_id\n",
        "#Predict\n",
        "select * from\n",
        "ml.predict(model `new_york_green_taxi_tip.nyc_tips_model_v5` , \n",
        "( select \n",
        "  log(fare_amount+1) as feature1,\n",
        "  log(trip_distance+1) as feature2,\n",
        "  log(trip_seconds+1) as feature3,\n",
        "  credit_card as feature4,\n",
        "  passenger_count as feature5\n",
        "from `cs145-fa21-328321.new_york_green_taxi_tip.dataset6` \n",
        "where pickup_datetime between \"2018-11-01\" and \"2018-12-31\"))\n",
        "limit 10"
      ],
      "execution_count": null,
      "outputs": [
        {
          "output_type": "execute_result",
          "data": {
            "text/html": [
              "<div>\n",
              "<style scoped>\n",
              "    .dataframe tbody tr th:only-of-type {\n",
              "        vertical-align: middle;\n",
              "    }\n",
              "\n",
              "    .dataframe tbody tr th {\n",
              "        vertical-align: top;\n",
              "    }\n",
              "\n",
              "    .dataframe thead th {\n",
              "        text-align: right;\n",
              "    }\n",
              "</style>\n",
              "<table border=\"1\" class=\"dataframe\">\n",
              "  <thead>\n",
              "    <tr style=\"text-align: right;\">\n",
              "      <th></th>\n",
              "      <th>predicted_label</th>\n",
              "      <th>predicted_label_probs</th>\n",
              "      <th>feature1</th>\n",
              "      <th>feature2</th>\n",
              "      <th>feature3</th>\n",
              "      <th>feature4</th>\n",
              "      <th>feature5</th>\n",
              "    </tr>\n",
              "  </thead>\n",
              "  <tbody>\n",
              "    <tr>\n",
              "      <th>0</th>\n",
              "      <td>1</td>\n",
              "      <td>[{'label': 1, 'prob': 0.6069415936292618}, {'l...</td>\n",
              "      <td>3.36729583</td>\n",
              "      <td>2.211565695</td>\n",
              "      <td>7.576097</td>\n",
              "      <td>1</td>\n",
              "      <td>1</td>\n",
              "    </tr>\n",
              "    <tr>\n",
              "      <th>1</th>\n",
              "      <td>1</td>\n",
              "      <td>[{'label': 1, 'prob': 0.6053021982907122}, {'l...</td>\n",
              "      <td>3.384390263</td>\n",
              "      <td>2.253394849</td>\n",
              "      <td>7.488294</td>\n",
              "      <td>1</td>\n",
              "      <td>1</td>\n",
              "    </tr>\n",
              "    <tr>\n",
              "      <th>2</th>\n",
              "      <td>1</td>\n",
              "      <td>[{'label': 1, 'prob': 0.574522339075062}, {'la...</td>\n",
              "      <td>3.569532696</td>\n",
              "      <td>2.360854001</td>\n",
              "      <td>7.784889</td>\n",
              "      <td>1</td>\n",
              "      <td>1</td>\n",
              "    </tr>\n",
              "    <tr>\n",
              "      <th>3</th>\n",
              "      <td>1</td>\n",
              "      <td>[{'label': 1, 'prob': 0.6100947580262124}, {'l...</td>\n",
              "      <td>3.349904087</td>\n",
              "      <td>2.201659174</td>\n",
              "      <td>7.447751</td>\n",
              "      <td>1</td>\n",
              "      <td>1</td>\n",
              "    </tr>\n",
              "    <tr>\n",
              "      <th>4</th>\n",
              "      <td>1</td>\n",
              "      <td>[{'label': 1, 'prob': 0.5756899281997869}, {'l...</td>\n",
              "      <td>3.597312261</td>\n",
              "      <td>2.561095788</td>\n",
              "      <td>7.508787</td>\n",
              "      <td>1</td>\n",
              "      <td>1</td>\n",
              "    </tr>\n",
              "    <tr>\n",
              "      <th>5</th>\n",
              "      <td>1</td>\n",
              "      <td>[{'label': 1, 'prob': 0.519025450801007}, {'la...</td>\n",
              "      <td>3.970291914</td>\n",
              "      <td>3.061520014</td>\n",
              "      <td>8.359603</td>\n",
              "      <td>1</td>\n",
              "      <td>1</td>\n",
              "    </tr>\n",
              "    <tr>\n",
              "      <th>6</th>\n",
              "      <td>1</td>\n",
              "      <td>[{'label': 1, 'prob': 0.5011521228926171}, {'l...</td>\n",
              "      <td>4.006787582</td>\n",
              "      <td>2.628285233</td>\n",
              "      <td>8.213111</td>\n",
              "      <td>1</td>\n",
              "      <td>1</td>\n",
              "    </tr>\n",
              "    <tr>\n",
              "      <th>7</th>\n",
              "      <td>1</td>\n",
              "      <td>[{'label': 1, 'prob': 0.528110242991602}, {'la...</td>\n",
              "      <td>3.860729711</td>\n",
              "      <td>2.624668592</td>\n",
              "      <td>8.075894</td>\n",
              "      <td>1</td>\n",
              "      <td>1</td>\n",
              "    </tr>\n",
              "    <tr>\n",
              "      <th>8</th>\n",
              "      <td>1</td>\n",
              "      <td>[{'label': 1, 'prob': 0.5580510981390224}, {'l...</td>\n",
              "      <td>3.569532696</td>\n",
              "      <td>1.78339122</td>\n",
              "      <td>8.167068</td>\n",
              "      <td>1</td>\n",
              "      <td>1</td>\n",
              "    </tr>\n",
              "    <tr>\n",
              "      <th>9</th>\n",
              "      <td>1</td>\n",
              "      <td>[{'label': 1, 'prob': 0.6192595519134265}, {'l...</td>\n",
              "      <td>3.277144733</td>\n",
              "      <td>2.061786606</td>\n",
              "      <td>7.394493</td>\n",
              "      <td>1</td>\n",
              "      <td>1</td>\n",
              "    </tr>\n",
              "  </tbody>\n",
              "</table>\n",
              "</div>"
            ],
            "text/plain": [
              "   predicted_label  ... feature5\n",
              "0                1  ...        1\n",
              "1                1  ...        1\n",
              "2                1  ...        1\n",
              "3                1  ...        1\n",
              "4                1  ...        1\n",
              "5                1  ...        1\n",
              "6                1  ...        1\n",
              "7                1  ...        1\n",
              "8                1  ...        1\n",
              "9                1  ...        1\n",
              "\n",
              "[10 rows x 7 columns]"
            ]
          },
          "metadata": {},
          "execution_count": 34
        }
      ]
    },
    {
      "cell_type": "markdown",
      "metadata": {
        "id": "S7EoLAC99DBl"
      },
      "source": [
        "## Boosted Tree Classification"
      ]
    },
    {
      "cell_type": "code",
      "metadata": {
        "colab": {
          "base_uri": "https://localhost:8080/",
          "height": 32
        },
        "id": "5nRrOiucO3uw",
        "outputId": "8364e665-88ce-4790-ef9a-f7082342b0cd"
      },
      "source": [
        "%%bigquery --project $project_id\n",
        "#Train the model\n",
        "create or replace model `new_york_green_taxi_tip.nyc_tips_model_v6` \n",
        "options(model_type='BOOSTED_TREE_CLASSIFIER') as\n",
        "select \n",
        "  tip_or_not as label,\n",
        "  log(fare_amount+1) as feature1,\n",
        "  log(trip_distance+1) as feature2,\n",
        "  log(trip_seconds+1) as feature3,\n",
        "  credit_card as feature4,\n",
        "  passenger_count as feature5\n",
        "from\n",
        "`cs145-fa21-328321.new_york_green_taxi_tip.dataset6` \n",
        "where pickup_datetime between \"2018-01-01\" and \"2018-08-31\""
      ],
      "execution_count": null,
      "outputs": [
        {
          "output_type": "execute_result",
          "data": {
            "text/html": [
              "<div>\n",
              "<style scoped>\n",
              "    .dataframe tbody tr th:only-of-type {\n",
              "        vertical-align: middle;\n",
              "    }\n",
              "\n",
              "    .dataframe tbody tr th {\n",
              "        vertical-align: top;\n",
              "    }\n",
              "\n",
              "    .dataframe thead th {\n",
              "        text-align: right;\n",
              "    }\n",
              "</style>\n",
              "<table border=\"1\" class=\"dataframe\">\n",
              "  <thead>\n",
              "    <tr style=\"text-align: right;\">\n",
              "      <th></th>\n",
              "    </tr>\n",
              "  </thead>\n",
              "  <tbody>\n",
              "  </tbody>\n",
              "</table>\n",
              "</div>"
            ],
            "text/plain": [
              "Empty DataFrame\n",
              "Columns: []\n",
              "Index: []"
            ]
          },
          "metadata": {},
          "execution_count": 113
        }
      ]
    },
    {
      "cell_type": "code",
      "metadata": {
        "colab": {
          "base_uri": "https://localhost:8080/",
          "height": 394
        },
        "id": "goowN72GSNOI",
        "outputId": "9225aa48-9fac-4735-cb88-a85d03f0e5f7"
      },
      "source": [
        "%%bigquery --project $project_id\n",
        "select *\n",
        "from\n",
        "ml.training_info(model `new_york_green_taxi_tip.nyc_tips_model_v6` )"
      ],
      "execution_count": null,
      "outputs": [
        {
          "output_type": "execute_result",
          "data": {
            "text/html": [
              "<div>\n",
              "<style scoped>\n",
              "    .dataframe tbody tr th:only-of-type {\n",
              "        vertical-align: middle;\n",
              "    }\n",
              "\n",
              "    .dataframe tbody tr th {\n",
              "        vertical-align: top;\n",
              "    }\n",
              "\n",
              "    .dataframe thead th {\n",
              "        text-align: right;\n",
              "    }\n",
              "</style>\n",
              "<table border=\"1\" class=\"dataframe\">\n",
              "  <thead>\n",
              "    <tr style=\"text-align: right;\">\n",
              "      <th></th>\n",
              "      <th>training_run</th>\n",
              "      <th>iteration</th>\n",
              "      <th>loss</th>\n",
              "      <th>eval_loss</th>\n",
              "      <th>learning_rate</th>\n",
              "      <th>duration_ms</th>\n",
              "    </tr>\n",
              "  </thead>\n",
              "  <tbody>\n",
              "    <tr>\n",
              "      <th>0</th>\n",
              "      <td>0</td>\n",
              "      <td>11</td>\n",
              "      <td>0.328421</td>\n",
              "      <td>0.328602</td>\n",
              "      <td>0.3</td>\n",
              "      <td>41</td>\n",
              "    </tr>\n",
              "    <tr>\n",
              "      <th>1</th>\n",
              "      <td>0</td>\n",
              "      <td>10</td>\n",
              "      <td>0.330304</td>\n",
              "      <td>0.331367</td>\n",
              "      <td>0.3</td>\n",
              "      <td>13640</td>\n",
              "    </tr>\n",
              "    <tr>\n",
              "      <th>2</th>\n",
              "      <td>0</td>\n",
              "      <td>9</td>\n",
              "      <td>0.334053</td>\n",
              "      <td>0.335009</td>\n",
              "      <td>0.3</td>\n",
              "      <td>35</td>\n",
              "    </tr>\n",
              "    <tr>\n",
              "      <th>3</th>\n",
              "      <td>0</td>\n",
              "      <td>8</td>\n",
              "      <td>0.338769</td>\n",
              "      <td>0.340205</td>\n",
              "      <td>0.3</td>\n",
              "      <td>12985</td>\n",
              "    </tr>\n",
              "    <tr>\n",
              "      <th>4</th>\n",
              "      <td>0</td>\n",
              "      <td>7</td>\n",
              "      <td>0.347585</td>\n",
              "      <td>0.347488</td>\n",
              "      <td>0.3</td>\n",
              "      <td>85</td>\n",
              "    </tr>\n",
              "    <tr>\n",
              "      <th>5</th>\n",
              "      <td>0</td>\n",
              "      <td>6</td>\n",
              "      <td>0.355698</td>\n",
              "      <td>0.357423</td>\n",
              "      <td>0.3</td>\n",
              "      <td>12808</td>\n",
              "    </tr>\n",
              "    <tr>\n",
              "      <th>6</th>\n",
              "      <td>0</td>\n",
              "      <td>5</td>\n",
              "      <td>0.370501</td>\n",
              "      <td>0.371716</td>\n",
              "      <td>0.3</td>\n",
              "      <td>77</td>\n",
              "    </tr>\n",
              "    <tr>\n",
              "      <th>7</th>\n",
              "      <td>0</td>\n",
              "      <td>4</td>\n",
              "      <td>0.392232</td>\n",
              "      <td>0.392288</td>\n",
              "      <td>0.3</td>\n",
              "      <td>12656</td>\n",
              "    </tr>\n",
              "    <tr>\n",
              "      <th>8</th>\n",
              "      <td>0</td>\n",
              "      <td>3</td>\n",
              "      <td>0.424053</td>\n",
              "      <td>0.423228</td>\n",
              "      <td>0.3</td>\n",
              "      <td>12754</td>\n",
              "    </tr>\n",
              "    <tr>\n",
              "      <th>9</th>\n",
              "      <td>0</td>\n",
              "      <td>2</td>\n",
              "      <td>0.469789</td>\n",
              "      <td>0.470906</td>\n",
              "      <td>0.3</td>\n",
              "      <td>52</td>\n",
              "    </tr>\n",
              "    <tr>\n",
              "      <th>10</th>\n",
              "      <td>0</td>\n",
              "      <td>1</td>\n",
              "      <td>0.549700</td>\n",
              "      <td>0.549296</td>\n",
              "      <td>0.3</td>\n",
              "      <td>182564</td>\n",
              "    </tr>\n",
              "  </tbody>\n",
              "</table>\n",
              "</div>"
            ],
            "text/plain": [
              "    training_run  iteration      loss  eval_loss  learning_rate  duration_ms\n",
              "0              0         11  0.328421   0.328602            0.3           41\n",
              "1              0         10  0.330304   0.331367            0.3        13640\n",
              "2              0          9  0.334053   0.335009            0.3           35\n",
              "3              0          8  0.338769   0.340205            0.3        12985\n",
              "4              0          7  0.347585   0.347488            0.3           85\n",
              "5              0          6  0.355698   0.357423            0.3        12808\n",
              "6              0          5  0.370501   0.371716            0.3           77\n",
              "7              0          4  0.392232   0.392288            0.3        12656\n",
              "8              0          3  0.424053   0.423228            0.3        12754\n",
              "9              0          2  0.469789   0.470906            0.3           52\n",
              "10             0          1  0.549700   0.549296            0.3       182564"
            ]
          },
          "metadata": {},
          "execution_count": 114
        }
      ]
    },
    {
      "cell_type": "code",
      "metadata": {
        "colab": {
          "base_uri": "https://localhost:8080/",
          "height": 80
        },
        "id": "hkMifdtxSP-F",
        "outputId": "33f2ee41-e594-4827-99c0-82ab30bcbba8"
      },
      "source": [
        "%%bigquery --project $project_id\n",
        "#Evaluate the model\n",
        "select * from\n",
        "ml.evaluate(model `new_york_green_taxi_tip.nyc_tips_model_v6`, \n",
        "( select\n",
        "  tip_or_not as label,\n",
        "  log(fare_amount+1) as feature1,\n",
        "  log(trip_distance+1) as feature2,\n",
        "  log(trip_seconds+1) as feature3,\n",
        "  credit_card as feature4,\n",
        "  passenger_count as feature5\n",
        "from `cs145-fa21-328321.new_york_green_taxi_tip.dataset6` \n",
        "where pickup_datetime between \"2018-09-01\" and \"2018-10-31\"))"
      ],
      "execution_count": null,
      "outputs": [
        {
          "output_type": "execute_result",
          "data": {
            "text/html": [
              "<div>\n",
              "<style scoped>\n",
              "    .dataframe tbody tr th:only-of-type {\n",
              "        vertical-align: middle;\n",
              "    }\n",
              "\n",
              "    .dataframe tbody tr th {\n",
              "        vertical-align: top;\n",
              "    }\n",
              "\n",
              "    .dataframe thead th {\n",
              "        text-align: right;\n",
              "    }\n",
              "</style>\n",
              "<table border=\"1\" class=\"dataframe\">\n",
              "  <thead>\n",
              "    <tr style=\"text-align: right;\">\n",
              "      <th></th>\n",
              "      <th>precision</th>\n",
              "      <th>recall</th>\n",
              "      <th>accuracy</th>\n",
              "      <th>f1_score</th>\n",
              "      <th>log_loss</th>\n",
              "      <th>roc_auc</th>\n",
              "    </tr>\n",
              "  </thead>\n",
              "  <tbody>\n",
              "    <tr>\n",
              "      <th>0</th>\n",
              "      <td>0.679732</td>\n",
              "      <td>0.902737</td>\n",
              "      <td>0.809508</td>\n",
              "      <td>0.775521</td>\n",
              "      <td>0.366973</td>\n",
              "      <td>0.893719</td>\n",
              "    </tr>\n",
              "  </tbody>\n",
              "</table>\n",
              "</div>"
            ],
            "text/plain": [
              "   precision    recall  accuracy  f1_score  log_loss   roc_auc\n",
              "0   0.679732  0.902737  0.809508  0.775521  0.366973  0.893719"
            ]
          },
          "metadata": {},
          "execution_count": 115
        }
      ]
    },
    {
      "cell_type": "markdown",
      "metadata": {
        "id": "cUMpRLcPJ4u-"
      },
      "source": [
        "Compared to the logistic regression model, boosting tree model increased the accuracy."
      ]
    },
    {
      "cell_type": "code",
      "metadata": {
        "colab": {
          "base_uri": "https://localhost:8080/",
          "height": 363
        },
        "id": "aQCCRGPzI1dD",
        "outputId": "e6ea4bf3-62c6-49e1-dde9-931cfd5f0db9"
      },
      "source": [
        "%%bigquery --project $project_id\n",
        "#Predict\n",
        "select * from\n",
        "ml.predict(model `new_york_green_taxi_tip.nyc_tips_model_v6` , \n",
        "( select \n",
        "  log(fare_amount+1) as feature1,\n",
        "  log(trip_distance+1) as feature2,\n",
        "  log(trip_seconds+1) as feature3,\n",
        "  credit_card as feature4,\n",
        "  passenger_count as feature5\n",
        "from `cs145-fa21-328321.new_york_green_taxi_tip.dataset6` \n",
        "where pickup_datetime between \"2018-11-01\" and \"2018-12-31\"))\n",
        "limit 10"
      ],
      "execution_count": null,
      "outputs": [
        {
          "output_type": "execute_result",
          "data": {
            "text/html": [
              "<div>\n",
              "<style scoped>\n",
              "    .dataframe tbody tr th:only-of-type {\n",
              "        vertical-align: middle;\n",
              "    }\n",
              "\n",
              "    .dataframe tbody tr th {\n",
              "        vertical-align: top;\n",
              "    }\n",
              "\n",
              "    .dataframe thead th {\n",
              "        text-align: right;\n",
              "    }\n",
              "</style>\n",
              "<table border=\"1\" class=\"dataframe\">\n",
              "  <thead>\n",
              "    <tr style=\"text-align: right;\">\n",
              "      <th></th>\n",
              "      <th>predicted_label</th>\n",
              "      <th>predicted_label_probs</th>\n",
              "      <th>feature1</th>\n",
              "      <th>feature2</th>\n",
              "      <th>feature3</th>\n",
              "      <th>feature4</th>\n",
              "      <th>feature5</th>\n",
              "    </tr>\n",
              "  </thead>\n",
              "  <tbody>\n",
              "    <tr>\n",
              "      <th>0</th>\n",
              "      <td>0</td>\n",
              "      <td>[{'label': 1, 'prob': 0.44017431139945984}, {'...</td>\n",
              "      <td>3.417726684</td>\n",
              "      <td>1.40854497</td>\n",
              "      <td>8.050703</td>\n",
              "      <td>1</td>\n",
              "      <td>1</td>\n",
              "    </tr>\n",
              "    <tr>\n",
              "      <th>1</th>\n",
              "      <td>0</td>\n",
              "      <td>[{'label': 1, 'prob': 0.1511778086423874}, {'l...</td>\n",
              "      <td>4.356708827</td>\n",
              "      <td>3.17805383</td>\n",
              "      <td>8.464636</td>\n",
              "      <td>1</td>\n",
              "      <td>1</td>\n",
              "    </tr>\n",
              "    <tr>\n",
              "      <th>2</th>\n",
              "      <td>1</td>\n",
              "      <td>[{'label': 1, 'prob': 0.6465254426002502}, {'l...</td>\n",
              "      <td>3.277144733</td>\n",
              "      <td>2.163323026</td>\n",
              "      <td>7.257708</td>\n",
              "      <td>1</td>\n",
              "      <td>1</td>\n",
              "    </tr>\n",
              "    <tr>\n",
              "      <th>3</th>\n",
              "      <td>1</td>\n",
              "      <td>[{'label': 1, 'prob': 0.6582226157188416}, {'l...</td>\n",
              "      <td>3.314186005</td>\n",
              "      <td>2.302585093</td>\n",
              "      <td>7.118016</td>\n",
              "      <td>1</td>\n",
              "      <td>5</td>\n",
              "    </tr>\n",
              "    <tr>\n",
              "      <th>4</th>\n",
              "      <td>0</td>\n",
              "      <td>[{'label': 1, 'prob': 0.41532447934150696}, {'...</td>\n",
              "      <td>3.295836866</td>\n",
              "      <td>1.931521412</td>\n",
              "      <td>7.758333</td>\n",
              "      <td>1</td>\n",
              "      <td>1</td>\n",
              "    </tr>\n",
              "    <tr>\n",
              "      <th>5</th>\n",
              "      <td>1</td>\n",
              "      <td>[{'label': 1, 'prob': 0.6136719584465027}, {'l...</td>\n",
              "      <td>3.349904087</td>\n",
              "      <td>2.332143895</td>\n",
              "      <td>7.201916</td>\n",
              "      <td>1</td>\n",
              "      <td>4</td>\n",
              "    </tr>\n",
              "    <tr>\n",
              "      <th>6</th>\n",
              "      <td>1</td>\n",
              "      <td>[{'label': 1, 'prob': 0.6971041560173035}, {'l...</td>\n",
              "      <td>3.277144733</td>\n",
              "      <td>2.228938553</td>\n",
              "      <td>6.983790</td>\n",
              "      <td>1</td>\n",
              "      <td>1</td>\n",
              "    </tr>\n",
              "    <tr>\n",
              "      <th>7</th>\n",
              "      <td>0</td>\n",
              "      <td>[{'label': 1, 'prob': 0.3767896294593811}, {'l...</td>\n",
              "      <td>3.583518938</td>\n",
              "      <td>2.305580602</td>\n",
              "      <td>7.896925</td>\n",
              "      <td>1</td>\n",
              "      <td>1</td>\n",
              "    </tr>\n",
              "    <tr>\n",
              "      <th>8</th>\n",
              "      <td>0</td>\n",
              "      <td>[{'label': 1, 'prob': 0.1511778086423874}, {'l...</td>\n",
              "      <td>4.248495242</td>\n",
              "      <td>3.250374492</td>\n",
              "      <td>8.198089</td>\n",
              "      <td>1</td>\n",
              "      <td>1</td>\n",
              "    </tr>\n",
              "    <tr>\n",
              "      <th>9</th>\n",
              "      <td>1</td>\n",
              "      <td>[{'label': 1, 'prob': 0.5353595018386841}, {'l...</td>\n",
              "      <td>3.433987204</td>\n",
              "      <td>2.370243741</td>\n",
              "      <td>7.384610</td>\n",
              "      <td>1</td>\n",
              "      <td>1</td>\n",
              "    </tr>\n",
              "  </tbody>\n",
              "</table>\n",
              "</div>"
            ],
            "text/plain": [
              "   predicted_label  ... feature5\n",
              "0                0  ...        1\n",
              "1                0  ...        1\n",
              "2                1  ...        1\n",
              "3                1  ...        5\n",
              "4                0  ...        1\n",
              "5                1  ...        4\n",
              "6                1  ...        1\n",
              "7                0  ...        1\n",
              "8                0  ...        1\n",
              "9                1  ...        1\n",
              "\n",
              "[10 rows x 7 columns]"
            ]
          },
          "metadata": {},
          "execution_count": 35
        }
      ]
    },
    {
      "cell_type": "markdown",
      "metadata": {
        "id": "Dg7Lhqi_yDcy"
      },
      "source": [
        "# Conclusion"
      ]
    },
    {
      "cell_type": "markdown",
      "metadata": {
        "id": "YmVpTigjyHMY"
      },
      "source": [
        "---\n",
        "\n",
        "In conclusion, in this project, we firstly deep dive into the dataset, find out relationship and correlation between tip amount and some important factors. Then, we use several machine learning algorithms to make prediction on tip amount and make classification on whether paying tips or not.\n",
        "\n",
        "Firstly, we found trip distance, trip second and fare amount all have a relatively positive correlation with the amount of tip. Meanwhile, customers using credit card to pay fare are more willing to pay tips then those using cash. When passenger amount is quite big, such as 7,8,9, the average amount of tips is also more than small passenger amount. One possible reason is that when there are more passengers, they can share the tips with each other, and the amount of tips will increase, therefore.\n",
        "\n",
        "Through the prediction model, we use linear regression and boosting regression, however the performance is quite close between each model (R2 score are all close to 0.62). This performace is not bad, but still have a lot of space to improve.One possible reason is that maybe the correlation between these 3 factors in our regression model is a little bit high.\n",
        "\n",
        "What about the classification model to tell us whether the customer would like to pay tips or not?\n",
        "For the logistic model, the accuracy is 0.77 and boosting model has 0.8 accuracy, both are relatively good.\n",
        "\n",
        "More i thought now and will do in the future: \n",
        "1.try to use different classification way (like DNN) in order to try to increase the model's accuracy.\n",
        "\n",
        "2.try to do better feature engineering on the factors of linear model, especially the independent variables, and hope to improve model's preformance.\n",
        "\n",
        "---"
      ]
    }
  ]
}